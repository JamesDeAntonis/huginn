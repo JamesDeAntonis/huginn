{
  "nbformat": 4,
  "nbformat_minor": 0,
  "metadata": {
    "colab": {
      "name": "topic_modeling.ipynb",
      "provenance": []
    },
    "kernelspec": {
      "name": "python3",
      "display_name": "Python 3"
    }
  },
  "cells": [
    {
      "cell_type": "code",
      "metadata": {
        "id": "v0Dtf7P88esa",
        "colab_type": "code",
        "outputId": "eb628d11-7f09-42b2-d30a-b71fa555b51d",
        "colab": {
          "base_uri": "https://localhost:8080/",
          "height": 1000
        }
      },
      "source": [
        "!pip install nltk\n",
        "!pip install gensim\n",
        "!pip install pyLDAvis"
      ],
      "execution_count": 1,
      "outputs": [
        {
          "output_type": "stream",
          "text": [
            "Requirement already satisfied: nltk in /usr/local/lib/python3.6/dist-packages (3.2.5)\n",
            "Requirement already satisfied: six in /usr/local/lib/python3.6/dist-packages (from nltk) (1.12.0)\n",
            "Requirement already satisfied: gensim in /usr/local/lib/python3.6/dist-packages (3.6.0)\n",
            "Requirement already satisfied: six>=1.5.0 in /usr/local/lib/python3.6/dist-packages (from gensim) (1.12.0)\n",
            "Requirement already satisfied: numpy>=1.11.3 in /usr/local/lib/python3.6/dist-packages (from gensim) (1.18.2)\n",
            "Requirement already satisfied: smart-open>=1.2.1 in /usr/local/lib/python3.6/dist-packages (from gensim) (1.10.0)\n",
            "Requirement already satisfied: scipy>=0.18.1 in /usr/local/lib/python3.6/dist-packages (from gensim) (1.4.1)\n",
            "Requirement already satisfied: boto3 in /usr/local/lib/python3.6/dist-packages (from smart-open>=1.2.1->gensim) (1.12.34)\n",
            "Requirement already satisfied: requests in /usr/local/lib/python3.6/dist-packages (from smart-open>=1.2.1->gensim) (2.21.0)\n",
            "Requirement already satisfied: google-cloud-storage in /usr/local/lib/python3.6/dist-packages (from smart-open>=1.2.1->gensim) (1.18.1)\n",
            "Requirement already satisfied: s3transfer<0.4.0,>=0.3.0 in /usr/local/lib/python3.6/dist-packages (from boto3->smart-open>=1.2.1->gensim) (0.3.3)\n",
            "Requirement already satisfied: botocore<1.16.0,>=1.15.34 in /usr/local/lib/python3.6/dist-packages (from boto3->smart-open>=1.2.1->gensim) (1.15.34)\n",
            "Requirement already satisfied: jmespath<1.0.0,>=0.7.1 in /usr/local/lib/python3.6/dist-packages (from boto3->smart-open>=1.2.1->gensim) (0.9.5)\n",
            "Requirement already satisfied: certifi>=2017.4.17 in /usr/local/lib/python3.6/dist-packages (from requests->smart-open>=1.2.1->gensim) (2019.11.28)\n",
            "Requirement already satisfied: urllib3<1.25,>=1.21.1 in /usr/local/lib/python3.6/dist-packages (from requests->smart-open>=1.2.1->gensim) (1.24.3)\n",
            "Requirement already satisfied: idna<2.9,>=2.5 in /usr/local/lib/python3.6/dist-packages (from requests->smart-open>=1.2.1->gensim) (2.8)\n",
            "Requirement already satisfied: chardet<3.1.0,>=3.0.2 in /usr/local/lib/python3.6/dist-packages (from requests->smart-open>=1.2.1->gensim) (3.0.4)\n",
            "Requirement already satisfied: google-auth>=1.2.0 in /usr/local/lib/python3.6/dist-packages (from google-cloud-storage->smart-open>=1.2.1->gensim) (1.7.2)\n",
            "Requirement already satisfied: google-resumable-media<0.5.0dev,>=0.3.1 in /usr/local/lib/python3.6/dist-packages (from google-cloud-storage->smart-open>=1.2.1->gensim) (0.4.1)\n",
            "Requirement already satisfied: google-cloud-core<2.0dev,>=1.0.0 in /usr/local/lib/python3.6/dist-packages (from google-cloud-storage->smart-open>=1.2.1->gensim) (1.0.3)\n",
            "Requirement already satisfied: python-dateutil<3.0.0,>=2.1 in /usr/local/lib/python3.6/dist-packages (from botocore<1.16.0,>=1.15.34->boto3->smart-open>=1.2.1->gensim) (2.8.1)\n",
            "Requirement already satisfied: docutils<0.16,>=0.10 in /usr/local/lib/python3.6/dist-packages (from botocore<1.16.0,>=1.15.34->boto3->smart-open>=1.2.1->gensim) (0.15.2)\n",
            "Requirement already satisfied: cachetools<3.2,>=2.0.0 in /usr/local/lib/python3.6/dist-packages (from google-auth>=1.2.0->google-cloud-storage->smart-open>=1.2.1->gensim) (3.1.1)\n",
            "Requirement already satisfied: setuptools>=40.3.0 in /usr/local/lib/python3.6/dist-packages (from google-auth>=1.2.0->google-cloud-storage->smart-open>=1.2.1->gensim) (46.1.3)\n",
            "Requirement already satisfied: rsa<4.1,>=3.1.4 in /usr/local/lib/python3.6/dist-packages (from google-auth>=1.2.0->google-cloud-storage->smart-open>=1.2.1->gensim) (4.0)\n",
            "Requirement already satisfied: pyasn1-modules>=0.2.1 in /usr/local/lib/python3.6/dist-packages (from google-auth>=1.2.0->google-cloud-storage->smart-open>=1.2.1->gensim) (0.2.8)\n",
            "Requirement already satisfied: google-api-core<2.0.0dev,>=1.14.0 in /usr/local/lib/python3.6/dist-packages (from google-cloud-core<2.0dev,>=1.0.0->google-cloud-storage->smart-open>=1.2.1->gensim) (1.16.0)\n",
            "Requirement already satisfied: pyasn1>=0.1.3 in /usr/local/lib/python3.6/dist-packages (from rsa<4.1,>=3.1.4->google-auth>=1.2.0->google-cloud-storage->smart-open>=1.2.1->gensim) (0.4.8)\n",
            "Requirement already satisfied: protobuf>=3.4.0 in /usr/local/lib/python3.6/dist-packages (from google-api-core<2.0.0dev,>=1.14.0->google-cloud-core<2.0dev,>=1.0.0->google-cloud-storage->smart-open>=1.2.1->gensim) (3.10.0)\n",
            "Requirement already satisfied: pytz in /usr/local/lib/python3.6/dist-packages (from google-api-core<2.0.0dev,>=1.14.0->google-cloud-core<2.0dev,>=1.0.0->google-cloud-storage->smart-open>=1.2.1->gensim) (2018.9)\n",
            "Requirement already satisfied: googleapis-common-protos<2.0dev,>=1.6.0 in /usr/local/lib/python3.6/dist-packages (from google-api-core<2.0.0dev,>=1.14.0->google-cloud-core<2.0dev,>=1.0.0->google-cloud-storage->smart-open>=1.2.1->gensim) (1.51.0)\n",
            "Collecting pyLDAvis\n",
            "\u001b[?25l  Downloading https://files.pythonhosted.org/packages/a5/3a/af82e070a8a96e13217c8f362f9a73e82d61ac8fff3a2561946a97f96266/pyLDAvis-2.1.2.tar.gz (1.6MB)\n",
            "\u001b[K     |████████████████████████████████| 1.6MB 2.7MB/s \n",
            "\u001b[?25hRequirement already satisfied: wheel>=0.23.0 in /usr/local/lib/python3.6/dist-packages (from pyLDAvis) (0.34.2)\n",
            "Requirement already satisfied: numpy>=1.9.2 in /usr/local/lib/python3.6/dist-packages (from pyLDAvis) (1.18.2)\n",
            "Requirement already satisfied: scipy>=0.18.0 in /usr/local/lib/python3.6/dist-packages (from pyLDAvis) (1.4.1)\n",
            "Requirement already satisfied: pandas>=0.17.0 in /usr/local/lib/python3.6/dist-packages (from pyLDAvis) (1.0.3)\n",
            "Requirement already satisfied: joblib>=0.8.4 in /usr/local/lib/python3.6/dist-packages (from pyLDAvis) (0.14.1)\n",
            "Requirement already satisfied: jinja2>=2.7.2 in /usr/local/lib/python3.6/dist-packages (from pyLDAvis) (2.11.1)\n",
            "Requirement already satisfied: numexpr in /usr/local/lib/python3.6/dist-packages (from pyLDAvis) (2.7.1)\n",
            "Requirement already satisfied: pytest in /usr/local/lib/python3.6/dist-packages (from pyLDAvis) (3.6.4)\n",
            "Requirement already satisfied: future in /usr/local/lib/python3.6/dist-packages (from pyLDAvis) (0.16.0)\n",
            "Collecting funcy\n",
            "\u001b[?25l  Downloading https://files.pythonhosted.org/packages/ce/4b/6ffa76544e46614123de31574ad95758c421aae391a1764921b8a81e1eae/funcy-1.14.tar.gz (548kB)\n",
            "\u001b[K     |████████████████████████████████| 552kB 22.2MB/s \n",
            "\u001b[?25hRequirement already satisfied: pytz>=2017.2 in /usr/local/lib/python3.6/dist-packages (from pandas>=0.17.0->pyLDAvis) (2018.9)\n",
            "Requirement already satisfied: python-dateutil>=2.6.1 in /usr/local/lib/python3.6/dist-packages (from pandas>=0.17.0->pyLDAvis) (2.8.1)\n",
            "Requirement already satisfied: MarkupSafe>=0.23 in /usr/local/lib/python3.6/dist-packages (from jinja2>=2.7.2->pyLDAvis) (1.1.1)\n",
            "Requirement already satisfied: more-itertools>=4.0.0 in /usr/local/lib/python3.6/dist-packages (from pytest->pyLDAvis) (8.2.0)\n",
            "Requirement already satisfied: six>=1.10.0 in /usr/local/lib/python3.6/dist-packages (from pytest->pyLDAvis) (1.12.0)\n",
            "Requirement already satisfied: pluggy<0.8,>=0.5 in /usr/local/lib/python3.6/dist-packages (from pytest->pyLDAvis) (0.7.1)\n",
            "Requirement already satisfied: atomicwrites>=1.0 in /usr/local/lib/python3.6/dist-packages (from pytest->pyLDAvis) (1.3.0)\n",
            "Requirement already satisfied: setuptools in /usr/local/lib/python3.6/dist-packages (from pytest->pyLDAvis) (46.1.3)\n",
            "Requirement already satisfied: attrs>=17.4.0 in /usr/local/lib/python3.6/dist-packages (from pytest->pyLDAvis) (19.3.0)\n",
            "Requirement already satisfied: py>=1.5.0 in /usr/local/lib/python3.6/dist-packages (from pytest->pyLDAvis) (1.8.1)\n",
            "Building wheels for collected packages: pyLDAvis, funcy\n",
            "  Building wheel for pyLDAvis (setup.py) ... \u001b[?25l\u001b[?25hdone\n",
            "  Created wheel for pyLDAvis: filename=pyLDAvis-2.1.2-py2.py3-none-any.whl size=97711 sha256=7276290d94f9a650a56837b73aef59c14225105f7b8c0354abedb3c67b8711ae\n",
            "  Stored in directory: /root/.cache/pip/wheels/98/71/24/513a99e58bb6b8465bae4d2d5e9dba8f0bef8179e3051ac414\n",
            "  Building wheel for funcy (setup.py) ... \u001b[?25l\u001b[?25hdone\n",
            "  Created wheel for funcy: filename=funcy-1.14-py2.py3-none-any.whl size=32042 sha256=5a6a3430a1a3d83628df740019e00c864d7f62eac51e3f20de2b0692456415bb\n",
            "  Stored in directory: /root/.cache/pip/wheels/20/5a/d8/1d875df03deae6f178dfdf70238cca33f948ef8a6f5209f2eb\n",
            "Successfully built pyLDAvis funcy\n",
            "Installing collected packages: funcy, pyLDAvis\n",
            "Successfully installed funcy-1.14 pyLDAvis-2.1.2\n"
          ],
          "name": "stdout"
        }
      ]
    },
    {
      "cell_type": "code",
      "metadata": {
        "id": "XWNo99sSpvXV",
        "colab_type": "code",
        "colab": {}
      },
      "source": [
        "#searched bitcoin on NYT\n",
        "dataset = ['The Coder and the Dictator',\n",
        "           'Bitcoin Has Lost Steam. But Criminals Still Love It.',\n",
        "           'China’s Cryptocurrency Plan Has a Powerful Partner: Big Brother',\n",
        "           'China Gives Digital Currencies a Reprieve as Beijing Warms to Blockchain',\n",
        "           'Bitcoin is a protocol. Bitcoin is a brand.']"
      ],
      "execution_count": 0,
      "outputs": []
    },
    {
      "cell_type": "code",
      "metadata": {
        "id": "TG3OuB0qoekY",
        "colab_type": "code",
        "outputId": "eb3fda2b-3d52-49c2-ce3b-d13163d60514",
        "colab": {
          "base_uri": "https://localhost:8080/",
          "height": 52
        }
      },
      "source": [
        "\n",
        "import spacy\n",
        "spacy.load('en')\n",
        "from spacy.lang.en import English\n",
        "import nltk\n",
        "nltk.download('wordnet')\n",
        "from nltk.corpus import wordnet as wn\n",
        "from nltk.stem.wordnet import WordNetLemmatizer\n",
        "from gensim import corpora\n",
        "import pickle\n",
        "import gensim\n",
        "\n",
        "\n",
        "parser = English()\n",
        "def tokenize(text):\n",
        "    lda_tokens = []\n",
        "    tokens = parser(text)\n",
        "    for token in tokens:\n",
        "        if token.orth_.isspace():\n",
        "            continue\n",
        "        elif token.like_url:\n",
        "            lda_tokens.append('URL')\n",
        "        elif token.orth_.startswith('@'):\n",
        "            lda_tokens.append('SCREEN_NAME')\n",
        "        else:\n",
        "            lda_tokens.append(token.lower_)\n",
        "    return lda_tokens"
      ],
      "execution_count": 3,
      "outputs": [
        {
          "output_type": "stream",
          "text": [
            "[nltk_data] Downloading package wordnet to /root/nltk_data...\n",
            "[nltk_data]   Unzipping corpora/wordnet.zip.\n"
          ],
          "name": "stdout"
        }
      ]
    },
    {
      "cell_type": "code",
      "metadata": {
        "id": "dOkvmgeRzpNO",
        "colab_type": "code",
        "outputId": "8597c696-ac69-45b7-fb6e-97ed59677531",
        "colab": {
          "base_uri": "https://localhost:8080/",
          "height": 34
        }
      },
      "source": [
        "tokenize('Holy guacamole')"
      ],
      "execution_count": 4,
      "outputs": [
        {
          "output_type": "execute_result",
          "data": {
            "text/plain": [
              "['holy', 'guacamole']"
            ]
          },
          "metadata": {
            "tags": []
          },
          "execution_count": 4
        }
      ]
    },
    {
      "cell_type": "code",
      "metadata": {
        "id": "8WDZgDaWpTaC",
        "colab_type": "code",
        "colab": {}
      },
      "source": [
        "def get_lemma(word):\n",
        "    lemma = wn.morphy(word)\n",
        "    if lemma is None:\n",
        "        return word\n",
        "    else:\n",
        "        return lemma\n",
        "    \n",
        "def get_lemma2(word):\n",
        "    return WordNetLemmatizer().lemmatize(word)"
      ],
      "execution_count": 0,
      "outputs": []
    },
    {
      "cell_type": "code",
      "metadata": {
        "id": "zUAWN7WBpXIi",
        "colab_type": "code",
        "outputId": "ecb48638-9a43-4a92-ffe2-68a460cf3796",
        "colab": {
          "base_uri": "https://localhost:8080/",
          "height": 52
        }
      },
      "source": [
        "print(get_lemma('notebooks'))\n",
        "print(get_lemma2('notebooks'))"
      ],
      "execution_count": 6,
      "outputs": [
        {
          "output_type": "stream",
          "text": [
            "notebook\n",
            "notebook\n"
          ],
          "name": "stdout"
        }
      ]
    },
    {
      "cell_type": "code",
      "metadata": {
        "id": "iK_uKCtzpaSp",
        "colab_type": "code",
        "outputId": "cb87349d-e8bd-4e04-defa-e1992608b20d",
        "colab": {
          "base_uri": "https://localhost:8080/",
          "height": 69
        }
      },
      "source": [
        "for w in ['dogs', 'ran', 'discouraged']:\n",
        "    print(w, get_lemma(w), get_lemma2(w))"
      ],
      "execution_count": 7,
      "outputs": [
        {
          "output_type": "stream",
          "text": [
            "dogs dog dog\n",
            "ran run ran\n",
            "discouraged discourage discouraged\n"
          ],
          "name": "stdout"
        }
      ]
    },
    {
      "cell_type": "code",
      "metadata": {
        "id": "FwQ4hjtEpc7S",
        "colab_type": "code",
        "outputId": "97dae619-1417-4116-c4a4-bd2cfb43c844",
        "colab": {
          "base_uri": "https://localhost:8080/",
          "height": 52
        }
      },
      "source": [
        "nltk.download('stopwords')\n",
        "en_stop = set(nltk.corpus.stopwords.words('english'))"
      ],
      "execution_count": 8,
      "outputs": [
        {
          "output_type": "stream",
          "text": [
            "[nltk_data] Downloading package stopwords to /root/nltk_data...\n",
            "[nltk_data]   Unzipping corpora/stopwords.zip.\n"
          ],
          "name": "stdout"
        }
      ]
    },
    {
      "cell_type": "code",
      "metadata": {
        "id": "nYcECtkR03AD",
        "colab_type": "code",
        "outputId": "d3a69b4d-9646-4438-ea23-4bb6877bdb9f",
        "colab": {
          "base_uri": "https://localhost:8080/",
          "height": 34
        }
      },
      "source": [
        "list(en_stop)[:5]"
      ],
      "execution_count": 9,
      "outputs": [
        {
          "output_type": "execute_result",
          "data": {
            "text/plain": [
              "['against', 'an', 'off', \"weren't\", \"isn't\"]"
            ]
          },
          "metadata": {
            "tags": []
          },
          "execution_count": 9
        }
      ]
    },
    {
      "cell_type": "code",
      "metadata": {
        "id": "J6Q7bV8Rpf5Z",
        "colab_type": "code",
        "colab": {}
      },
      "source": [
        "def prepare_text_for_lda(text):\n",
        "    tokens = tokenize(text)\n",
        "    tokens = [token for token in tokens if len(token) > 4] #discard short words\n",
        "    tokens = [token for token in tokens if token not in en_stop] #remove if stop word\n",
        "    tokens = [get_lemma(token) for token in tokens] #lemmatize each word\n",
        "    return tokens"
      ],
      "execution_count": 0,
      "outputs": []
    },
    {
      "cell_type": "code",
      "metadata": {
        "id": "YXhd_JSX2-ka",
        "colab_type": "code",
        "outputId": "793d962a-abe5-45dc-da1d-3e4f54443288",
        "colab": {
          "base_uri": "https://localhost:8080/",
          "height": 34
        }
      },
      "source": [
        "prepare_text_for_lda('Harry Potter is a silly little wizard')"
      ],
      "execution_count": 11,
      "outputs": [
        {
          "output_type": "execute_result",
          "data": {
            "text/plain": [
              "['harry', 'potter', 'silly', 'little', 'wizard']"
            ]
          },
          "metadata": {
            "tags": []
          },
          "execution_count": 11
        }
      ]
    },
    {
      "cell_type": "code",
      "metadata": {
        "id": "HKpwLnZQ3Ecn",
        "colab_type": "code",
        "colab": {}
      },
      "source": [
        "text_data = [prepare_text_for_lda(i) for i in dataset]"
      ],
      "execution_count": 0,
      "outputs": []
    },
    {
      "cell_type": "code",
      "metadata": {
        "id": "ll6LtKn_ph6Z",
        "colab_type": "code",
        "outputId": "7c7da30b-ac2b-4527-c544-991f0a7f61a3",
        "colab": {
          "base_uri": "https://localhost:8080/",
          "height": 260
        }
      },
      "source": [
        "import random\n",
        "text_data2 = []\n",
        "with open('dataset.csv') as f:\n",
        "    for line in f:\n",
        "        tokens = prepare_text_for_lda(line)\n",
        "        if random.random() > .99:\n",
        "            #print(tokens)\n",
        "            text_data2.append(tokens)\n",
        "text_data2[:5]"
      ],
      "execution_count": 14,
      "outputs": [
        {
          "output_type": "execute_result",
          "data": {
            "text/plain": [
              "[['probability', 'distribution', 'blackout', 'complex', 'power', 'network'],\n",
              " ['base',\n",
              "  'design',\n",
              "  'scale',\n",
              "  'offset',\n",
              "  'base',\n",
              "  'decoding',\n",
              "  'algorithm',\n",
              "  'rayleigh',\n",
              "  'fading',\n",
              "  'channel'],\n",
              " ['temporal', 'management'],\n",
              " ['unify', 'logging', 'infrastructure', 'analytics', 'twitter'],\n",
              " ['optimality', 'scalability', 'lattice', 'histogram', 'construction']]"
            ]
          },
          "metadata": {
            "tags": []
          },
          "execution_count": 14
        }
      ]
    },
    {
      "cell_type": "code",
      "metadata": {
        "id": "JRZcDPWCpj_I",
        "colab_type": "code",
        "colab": {}
      },
      "source": [
        "# creates dictionary generator\n",
        "dictionary = corpora.Dictionary(text_data2)\n"
      ],
      "execution_count": 0,
      "outputs": []
    },
    {
      "cell_type": "code",
      "metadata": {
        "id": "aHU-3Wa3ruqp",
        "colab_type": "code",
        "outputId": "767068cc-5626-4cff-99e5-65cfbf031264",
        "colab": {
          "base_uri": "https://localhost:8080/",
          "height": 52
        }
      },
      "source": [
        "# creates a list of lists of tuples, with index for each word in bag of words\n",
        "corpus = [dictionary.doc2bow(text) for text in text_data2]\n",
        "corpus[:2]"
      ],
      "execution_count": 17,
      "outputs": [
        {
          "output_type": "execute_result",
          "data": {
            "text/plain": [
              "[[(0, 1), (1, 1), (2, 1), (3, 1), (4, 1), (5, 1)],\n",
              " [(6, 1), (7, 2), (8, 1), (9, 1), (10, 1), (11, 1), (12, 1), (13, 1), (14, 1)]]"
            ]
          },
          "metadata": {
            "tags": []
          },
          "execution_count": 17
        }
      ]
    },
    {
      "cell_type": "code",
      "metadata": {
        "id": "i0BysWq-rxrI",
        "colab_type": "code",
        "outputId": "a05ec9d2-e297-449b-fdb6-dff54e8820d9",
        "colab": {
          "base_uri": "https://localhost:8080/",
          "height": 72
        }
      },
      "source": [
        "#creates a pickle file and dictionary file to save progress\n",
        "pickle.dump(corpus, open('corpus.pkl', 'wb'))\n",
        "dictionary.save('dictionary.gensim')"
      ],
      "execution_count": 18,
      "outputs": [
        {
          "output_type": "stream",
          "text": [
            "/usr/local/lib/python3.6/dist-packages/smart_open/smart_open_lib.py:410: UserWarning: This function is deprecated, use smart_open.open instead. See the migration notes for details: https://github.com/RaRe-Technologies/smart_open/blob/master/README.rst#migrating-to-the-new-open-function\n",
            "  'See the migration notes for details: %s' % _MIGRATION_NOTES_URL\n"
          ],
          "name": "stderr"
        }
      ]
    },
    {
      "cell_type": "code",
      "metadata": {
        "id": "BYllQf_Sr1qf",
        "colab_type": "code",
        "outputId": "8d2c5d03-2e44-4130-eb5c-4902effc8b14",
        "colab": {
          "base_uri": "https://localhost:8080/",
          "height": 72
        }
      },
      "source": [
        "#LDA Model instantiation , corpus is the list of tuples, dictionary maps the words to indices\n",
        "\n",
        "NUM_TOPICS = 5 # arbitrary\n",
        "ldamodel = gensim.models.ldamodel.LdaModel(corpus, num_topics = NUM_TOPICS, id2word=dictionary, passes=15)\n",
        "ldamodel.save('model5.gensim')"
      ],
      "execution_count": 19,
      "outputs": [
        {
          "output_type": "stream",
          "text": [
            "/usr/local/lib/python3.6/dist-packages/smart_open/smart_open_lib.py:410: UserWarning: This function is deprecated, use smart_open.open instead. See the migration notes for details: https://github.com/RaRe-Technologies/smart_open/blob/master/README.rst#migrating-to-the-new-open-function\n",
            "  'See the migration notes for details: %s' % _MIGRATION_NOTES_URL\n"
          ],
          "name": "stderr"
        }
      ]
    },
    {
      "cell_type": "code",
      "metadata": {
        "id": "G7VerBArr5Q4",
        "colab_type": "code",
        "outputId": "9c9284bb-0b49-4e95-9b8a-73e979d80b1f",
        "colab": {
          "base_uri": "https://localhost:8080/",
          "height": 104
        }
      },
      "source": [
        "# Choosing 4 words from each title, what are the central topics\n",
        "\n",
        "topics = ldamodel.print_topics(num_words=4)\n",
        "for topic in topics:\n",
        "    print(topic)"
      ],
      "execution_count": 20,
      "outputs": [
        {
          "output_type": "stream",
          "text": [
            "(0, '0.053*\"base\" + 0.028*\"using\" + 0.028*\"scale\" + 0.027*\"network\"')\n",
            "(1, '0.021*\"sensor\" + 0.021*\"complex\" + 0.021*\"documentary\" + 0.021*\"telling\"')\n",
            "(2, '0.027*\"construction\" + 0.015*\"flexible\" + 0.015*\"sheaf\" + 0.015*\"paper\"')\n",
            "(3, '0.034*\"database\" + 0.034*\"approach\" + 0.034*\"group\" + 0.018*\"system\"')\n",
            "(4, '0.044*\"network\" + 0.030*\"power\" + 0.016*\"efficient\" + 0.016*\"algorithm\"')\n"
          ],
          "name": "stdout"
        }
      ]
    },
    {
      "cell_type": "code",
      "metadata": {
        "id": "vIHnmjsL_IaV",
        "colab_type": "code",
        "outputId": "1de5065b-9c34-438b-cb47-911244e73086",
        "colab": {
          "base_uri": "https://localhost:8080/",
          "height": 34
        }
      },
      "source": [
        "dataset[-1]"
      ],
      "execution_count": 21,
      "outputs": [
        {
          "output_type": "execute_result",
          "data": {
            "text/plain": [
              "'Bitcoin is a protocol. Bitcoin is a brand.'"
            ]
          },
          "metadata": {
            "tags": []
          },
          "execution_count": 21
        }
      ]
    },
    {
      "cell_type": "code",
      "metadata": {
        "id": "hzkTX-vrr-Nw",
        "colab_type": "code",
        "outputId": "7f7f3427-d9e3-40f3-c344-59045f8f1920",
        "colab": {
          "base_uri": "https://localhost:8080/",
          "height": 52
        }
      },
      "source": [
        "new_doc = dataset[-1]\n",
        "new_doc = prepare_text_for_lda(new_doc)\n",
        "new_doc_bow = dictionary.doc2bow(new_doc)\n",
        "print(new_doc_bow)\n",
        "print(ldamodel.get_document_topics(new_doc_bow))"
      ],
      "execution_count": 22,
      "outputs": [
        {
          "output_type": "stream",
          "text": [
            "[]\n",
            "[(0, 0.2), (1, 0.2), (2, 0.2), (3, 0.2), (4, 0.2)]\n"
          ],
          "name": "stdout"
        }
      ]
    },
    {
      "cell_type": "code",
      "metadata": {
        "id": "sPWvwgJFsCSf",
        "colab_type": "code",
        "outputId": "f385ff3e-35fc-4795-efe1-a9d8f80e9fc5",
        "colab": {
          "base_uri": "https://localhost:8080/",
          "height": 124
        }
      },
      "source": [
        "ldamodel = gensim.models.ldamodel.LdaModel(corpus, num_topics = 3, id2word=dictionary, passes=15)\n",
        "ldamodel.save('model3.gensim')\n",
        "topics = ldamodel.print_topics(num_words=4)\n",
        "for topic in topics:\n",
        "    print(topic)"
      ],
      "execution_count": 23,
      "outputs": [
        {
          "output_type": "stream",
          "text": [
            "(0, '0.029*\"network\" + 0.016*\"using\" + 0.016*\"sensor\" + 0.016*\"approach\"')\n",
            "(1, '0.040*\"base\" + 0.018*\"algorithm\" + 0.018*\"scale\" + 0.018*\"power\"')\n",
            "(2, '0.018*\"delta\" + 0.018*\"constant\" + 0.018*\"inductor\" + 0.018*\"propose\"')\n"
          ],
          "name": "stdout"
        },
        {
          "output_type": "stream",
          "text": [
            "/usr/local/lib/python3.6/dist-packages/smart_open/smart_open_lib.py:410: UserWarning: This function is deprecated, use smart_open.open instead. See the migration notes for details: https://github.com/RaRe-Technologies/smart_open/blob/master/README.rst#migrating-to-the-new-open-function\n",
            "  'See the migration notes for details: %s' % _MIGRATION_NOTES_URL\n"
          ],
          "name": "stderr"
        }
      ]
    },
    {
      "cell_type": "code",
      "metadata": {
        "id": "y9hTNVP3sEfx",
        "colab_type": "code",
        "outputId": "67e17aad-88b3-4a5c-a892-3af4a9ed20bc",
        "colab": {
          "base_uri": "https://localhost:8080/",
          "height": 245
        }
      },
      "source": [
        "ldamodel = gensim.models.ldamodel.LdaModel(corpus, num_topics = 10, id2word=dictionary, passes=15)\n",
        "ldamodel.save('model10.gensim')\n",
        "topics = ldamodel.print_topics(num_words=4)\n",
        "for topic in topics:\n",
        "    print(topic)"
      ],
      "execution_count": 24,
      "outputs": [
        {
          "output_type": "stream",
          "text": [
            "(0, '0.036*\"construction\" + 0.036*\"scale\" + 0.036*\"base\" + 0.036*\"scalability\"')\n",
            "(1, '0.067*\"network\" + 0.035*\"complex\" + 0.035*\"using\" + 0.035*\"efficient\"')\n",
            "(2, '0.051*\"datapath\" + 0.051*\"error\" + 0.051*\"overclocking\" + 0.051*\"tradeoff\"')\n",
            "(3, '0.056*\"sensor\" + 0.029*\"wireless\" + 0.029*\"story\" + 0.029*\"telling\"')\n",
            "(4, '0.023*\"flexible\" + 0.023*\"parallel\" + 0.023*\"tangible\" + 0.023*\"sheet\"')\n",
            "(5, '0.042*\"base\" + 0.042*\"network\" + 0.022*\"design\" + 0.022*\"decoding\"')\n",
            "(6, '0.025*\"using\" + 0.025*\"directional\" + 0.025*\"coding\" + 0.025*\"broadcast\"')\n",
            "(7, '0.054*\"group\" + 0.054*\"efficiency\" + 0.054*\"semantics\" + 0.054*\"recommendation\"')\n",
            "(8, '0.025*\"efficient\" + 0.025*\"algorithm\" + 0.025*\"approach\" + 0.025*\"topology\"')\n",
            "(9, '0.039*\"speech\" + 0.039*\"inner\" + 0.039*\"cepstral\" + 0.039*\"noise\"')\n"
          ],
          "name": "stdout"
        },
        {
          "output_type": "stream",
          "text": [
            "/usr/local/lib/python3.6/dist-packages/smart_open/smart_open_lib.py:410: UserWarning: This function is deprecated, use smart_open.open instead. See the migration notes for details: https://github.com/RaRe-Technologies/smart_open/blob/master/README.rst#migrating-to-the-new-open-function\n",
            "  'See the migration notes for details: %s' % _MIGRATION_NOTES_URL\n"
          ],
          "name": "stderr"
        }
      ]
    },
    {
      "cell_type": "code",
      "metadata": {
        "id": "V2YFoGnCsIuG",
        "colab_type": "code",
        "outputId": "5642f36f-d3b7-4814-90cc-31bf4b504824",
        "colab": {
          "base_uri": "https://localhost:8080/",
          "height": 72
        }
      },
      "source": [
        "dictionary = gensim.corpora.Dictionary.load('dictionary.gensim')\n",
        "corpus = pickle.load(open('corpus.pkl', 'rb'))\n",
        "lda = gensim.models.ldamodel.LdaModel.load('model5.gensim')\n"
      ],
      "execution_count": 25,
      "outputs": [
        {
          "output_type": "stream",
          "text": [
            "/usr/local/lib/python3.6/dist-packages/smart_open/smart_open_lib.py:410: UserWarning: This function is deprecated, use smart_open.open instead. See the migration notes for details: https://github.com/RaRe-Technologies/smart_open/blob/master/README.rst#migrating-to-the-new-open-function\n",
            "  'See the migration notes for details: %s' % _MIGRATION_NOTES_URL\n"
          ],
          "name": "stderr"
        }
      ]
    },
    {
      "cell_type": "code",
      "metadata": {
        "id": "Y_be0rvIsLtP",
        "colab_type": "code",
        "outputId": "3c9fa846-3361-4968-c44a-e618e7ffe403",
        "colab": {
          "base_uri": "https://localhost:8080/",
          "height": 861
        }
      },
      "source": [
        "import pyLDAvis.gensim\n",
        "lda_display = pyLDAvis.gensim.prepare(lda, corpus, dictionary, sort_topics=False)\n",
        "pyLDAvis.display(lda_display)\n"
      ],
      "execution_count": 26,
      "outputs": [
        {
          "output_type": "execute_result",
          "data": {
            "text/html": [
              "\n",
              "<link rel=\"stylesheet\" type=\"text/css\" href=\"https://cdn.rawgit.com/bmabey/pyLDAvis/files/ldavis.v1.0.0.css\">\n",
              "\n",
              "\n",
              "<div id=\"ldavis_el1271401120917002245957564775\"></div>\n",
              "<script type=\"text/javascript\">\n",
              "\n",
              "var ldavis_el1271401120917002245957564775_data = {\"mdsDat\": {\"x\": [0.1053448317756561, 0.005107564337627007, -0.08991553571944809, -0.07247363868339515, 0.051936778289560066], \"y\": [0.006845702665602416, -0.0071676323568393985, 0.10345491932354538, -0.11232218168207125, 0.009189192049762854], \"topics\": [1, 2, 3, 4, 5], \"cluster\": [1, 1, 1, 1, 1], \"Freq\": [24.05190658569336, 13.915029525756836, 23.687870025634766, 17.113008499145508, 21.23218536376953]}, \"tinfo\": {\"Term\": [\"base\", \"network\", \"database\", \"approach\", \"group\", \"using\", \"power\", \"construction\", \"scale\", \"complex\", \"documentary\", \"environment\", \"telling\", \"collaborative\", \"support\", \"computer\", \"create\", \"story\", \"growing\", \"consensus\", \"theory\", \"eigen\", \"study\", \"social\", \"saturation\", \"current\", \"velocity\", \"imaging\", \"automate\", \"composition\", \"scale\", \"base\", \"cyber\", \"practical\", \"minimum\", \"early\", \"cardinality\", \"attack\", \"detection\", \"broadcast\", \"large\", \"energy\", \"directional\", \"antenna\", \"change\", \"rayleigh\", \"channel\", \"offset\", \"infrastructure\", \"latency\", \"fading\", \"debug\", \"analytics\", \"logging\", \"unify\", \"twitter\", \"increase\", \"overclocking\", \"accuracy\", \"error\", \"using\", \"network\", \"design\", \"wireless\", \"documentary\", \"telling\", \"environment\", \"collaborative\", \"computer\", \"support\", \"create\", \"story\", \"growing\", \"theory\", \"consensus\", \"eigen\", \"study\", \"social\", \"saturation\", \"current\", \"velocity\", \"imaging\", \"automate\", \"composition\", \"services\", \"complex\", \"sensor\", \"using\", \"network\", \"knowledge\", \"semantics\", \"efficiency\", \"integration\", \"recommendation\", \"management\", \"temporal\", \"efficient\", \"design\", \"flexible\", \"construction\", \"sheaf\", \"paper\", \"interface\", \"tangible\", \"concept\", \"sheet\", \"inductor\", \"constant\", \"active\", \"node\", \"browsing\", \"sigma\", \"2.4&micro;w\", \"sensitivity\", \"receiver\", \"-71dbm\", \"modulator\", \"delta\", \"wimax\", \"strings\", \"serial\", \"suffix\", \"parallel\", \"scalability\", \"tool\", \"histogram\", \"methodology\", \"optimality\", \"application\", \"flexible\", \"efficient\", \"database\", \"approach\", \"group\", \"system\", \"partition\", \"recovery\", \"capture\", \"multiple\", \"transactions\", \"file\", \"evaluate\", \"strong\", \"global\", \"cache\", \"consistency\", \"collect\", \"content\", \"snapshot\", \"standardization\", \"status\", \"relational\", \"report\", \"process\", \"continuous\", \"semantics\", \"integration\", \"efficiency\", \"recommendation\", \"knowledge\", \"services\", \"wikipedia\", \"power\", \"interference\", \"topology\", \"approximation\", \"unreliable\", \"criterion\", \"control\", \"speech\", \"configuration\", \"reconfigurable\", \"framework\", \"propose\", \"coding\", \"decoder\", \"video\", \"cepstral\", \"robust\", \"inner\", \"blackout\", \"probability\", \"distribution\", \"feature\", \"sparse\", \"product\", \"deployment\", \"coefficient\", \"kernel\", \"middleware\", \"recognition\", \"noise\", \"network\", \"efficient\", \"algorithm\"], \"Freq\": [3.0, 3.0, 1.0, 1.0, 1.0, 2.0, 1.0, 1.0, 1.0, 1.0, 0.0, 0.0, 0.0, 0.0, 0.0, 0.0, 0.0, 0.0, 0.0, 0.0, 0.0, 0.0, 0.0, 0.0, 0.0, 0.0, 0.0, 0.0, 0.0, 0.0, 1.263337254524231, 2.412672519683838, 0.6890941262245178, 0.689093828201294, 0.6890940070152283, 0.6890934109687805, 0.6890934109687805, 0.6890933513641357, 0.6890933513641357, 0.6890934109687805, 0.689093291759491, 0.6890931725502014, 0.6890931725502014, 0.6890929341316223, 0.6890923976898193, 0.6890856623649597, 0.6890849471092224, 0.689083993434906, 0.6890833377838135, 0.6890833377838135, 0.689083456993103, 0.6890827417373657, 0.6890825629234314, 0.6890825629234314, 0.6890823245048523, 0.689082145690918, 0.6890817880630493, 0.6890815496444702, 0.6890815496444702, 0.6890813708305359, 1.2634319067001343, 1.2620632648468018, 0.6894131898880005, 0.6891990303993225, 0.5498679280281067, 0.5498676896095276, 0.5498676896095276, 0.5498674511909485, 0.5498670935630798, 0.5498670935630798, 0.5498670339584351, 0.5498669147491455, 0.5498667359352112, 0.5498665571212769, 0.5498665571212769, 0.5498660802841187, 0.5498656630516052, 0.5498654246330261, 0.5498615503311157, 0.5498611927032471, 0.549860954284668, 0.5498607158660889, 0.5498521327972412, 0.549851655960083, 0.5498495101928711, 0.5501454472541809, 0.5502472519874573, 0.5498011112213135, 0.5493743419647217, 0.09165246784687042, 0.09165205806493759, 0.0916520208120346, 0.09165199846029282, 0.09165196120738983, 0.09166032075881958, 0.0916600301861763, 0.0916600301861763, 0.09165439754724503, 0.09165433049201965, 1.2442048788070679, 0.678656280040741, 0.6786559224128723, 0.678655743598938, 0.6786556243896484, 0.6786555051803589, 0.6786555051803589, 0.678654670715332, 0.6786546111106873, 0.6786540150642395, 0.67865389585495, 0.6786536574363708, 0.6786535978317261, 0.6786535978317261, 0.678653359413147, 0.678653359413147, 0.6786527633666992, 0.6786530017852783, 0.6786525249481201, 0.6786513328552246, 0.6786504983901978, 0.6786505579948425, 0.6786495447158813, 0.6786491870880127, 0.6786475777626038, 0.678647518157959, 0.6786474585533142, 0.6786471605300903, 0.6786470413208008, 0.6786467432975769, 0.6788299679756165, 0.6786541938781738, 1.1062657833099365, 1.1062631607055664, 1.1062588691711426, 0.6034156084060669, 0.6034153699874878, 0.6034150719642639, 0.6034150123596191, 0.6034147143363953, 0.6034145951271057, 0.6034144163131714, 0.6034144163131714, 0.6034143567085266, 0.603413999080658, 0.6034138798713684, 0.6034138798713684, 0.6034137010574341, 0.6034137010574341, 0.6034135222434998, 0.6034129858016968, 0.6034128665924072, 0.603411853313446, 0.6034108400344849, 0.6034029722213745, 0.6034027338027954, 0.6034023761749268, 0.6034015417098999, 0.6034014821052551, 0.6034008264541626, 0.6034002304077148, 0.10057836025953293, 0.10060671716928482, 1.2221086025238037, 0.6666026711463928, 0.666602373123169, 0.6666021943092346, 0.6666020154953003, 0.6666017174720764, 0.6666010618209839, 0.6665995121002197, 0.6665976643562317, 0.6665976047515869, 0.6665974855422974, 0.6665973663330078, 0.6665971875190735, 0.6665970087051392, 0.6665969491004944, 0.6665970683097839, 0.6665964126586914, 0.6665961146354675, 0.6665945053100586, 0.6665933132171631, 0.6665929555892944, 0.6665924191474915, 0.6665921211242676, 0.6665919423103333, 0.6665902733802795, 0.6665908098220825, 0.6665908694267273, 0.6665898561477661, 0.66659015417099, 0.666589617729187, 1.7794716358184814, 0.6675564050674438, 0.6666643619537354], \"Total\": [3.0, 3.0, 1.0, 1.0, 1.0, 2.0, 1.0, 1.0, 1.0, 1.0, 0.0, 0.0, 0.0, 0.0, 0.0, 0.0, 0.0, 0.0, 0.0, 0.0, 0.0, 0.0, 0.0, 0.0, 0.0, 0.0, 0.0, 0.0, 0.0, 0.0, 1.6797908544540405, 3.383838176727295, 1.1055357456207275, 1.1055357456207275, 1.105535864830017, 1.105535626411438, 1.105535626411438, 1.105535626411438, 1.105535626411438, 1.1055357456207275, 1.1055357456207275, 1.105535626411438, 1.1055357456207275, 1.105535626411438, 1.105535626411438, 1.105535626411438, 1.1055355072021484, 1.1055355072021484, 1.105534553527832, 1.105534553527832, 1.1055353879928589, 1.105534553527832, 1.105534553527832, 1.105534553527832, 1.105534553527832, 1.1055344343185425, 1.1055344343185425, 1.1055344343185425, 1.105534553527832, 1.1055344343185425, 2.1380391120910645, 3.8046159744262695, 1.6710968017578125, 1.6710944175720215, 0.9895121455192566, 0.9895120859146118, 0.9895122051239014, 0.9895121455192566, 0.9895122051239014, 0.9895122647285461, 0.9895122051239014, 0.9895122647285461, 0.9895122647285461, 0.9895123243331909, 0.9895124435424805, 0.9895125031471252, 0.9895125031471252, 0.9895125031471252, 0.9895133376121521, 0.9895134568214417, 0.9895133972167969, 0.9895135164260864, 0.9895151257514954, 0.9895153641700745, 0.9895156025886536, 1.5449634790420532, 2.1104986667633057, 2.1380391120910645, 3.8046159744262695, 1.0341365337371826, 1.034136414527893, 1.0341365337371826, 1.034136414527893, 1.0341366529464722, 1.0968348979949951, 1.0968348979949951, 2.2265689373016357, 1.6710968017578125, 1.6523511409759521, 1.6623966693878174, 1.0968390703201294, 1.0968390703201294, 1.0968389511108398, 1.0968389511108398, 1.0968389511108398, 1.0968389511108398, 1.0968389511108398, 1.0968389511108398, 1.0968388319015503, 1.0968388319015503, 1.0968388319015503, 1.0968388319015503, 1.0968388319015503, 1.0968388319015503, 1.0968388319015503, 1.0968385934829712, 1.0968388319015503, 1.0968388319015503, 1.0968387126922607, 1.0968385934829712, 1.0968385934829712, 1.0968384742736816, 1.0968384742736816, 1.096838355064392, 1.0968382358551025, 1.0968382358551025, 1.0968382358551025, 1.0968382358551025, 1.096838355064392, 1.6523511409759521, 2.2265689373016357, 1.536989450454712, 1.5369898080825806, 1.5369899272918701, 1.0341356992721558, 1.0341356992721558, 1.0341356992721558, 1.0341358184814453, 1.0341358184814453, 1.0341358184814453, 1.0341358184814453, 1.0341358184814453, 1.0341358184814453, 1.0341358184814453, 1.0341358184814453, 1.0341359376907349, 1.0341359376907349, 1.0341359376907349, 1.0341359376907349, 1.0341358184814453, 1.0341358184814453, 1.0341358184814453, 1.0341360569000244, 1.034136414527893, 1.034136414527893, 1.034136414527893, 1.034136414527893, 1.0341365337371826, 1.0341366529464722, 1.0341365337371826, 0.9895156025886536, 1.0968347787857056, 1.6423014402389526, 1.0867913961410522, 1.0867913961410522, 1.0867912769317627, 1.0867913961410522, 1.0867912769317627, 1.0867912769317627, 1.0867915153503418, 1.0867910385131836, 1.0867910385131836, 1.0867910385131836, 1.0867910385131836, 1.0867910385131836, 1.0867910385131836, 1.0867910385131836, 1.0867915153503418, 1.0867915153503418, 1.0867916345596313, 1.0867908000946045, 1.0867908000946045, 1.0867908000946045, 1.0867915153503418, 1.0867916345596313, 1.0867915153503418, 1.0867905616760254, 1.0867916345596313, 1.086791753768921, 1.0867905616760254, 1.086791753768921, 1.0867916345596313, 3.8046159744262695, 2.2265689373016357, 1.661043405532837], \"Category\": [\"Default\", \"Default\", \"Default\", \"Default\", \"Default\", \"Default\", \"Default\", \"Default\", \"Default\", \"Default\", \"Default\", \"Default\", \"Default\", \"Default\", \"Default\", \"Default\", \"Default\", \"Default\", \"Default\", \"Default\", \"Default\", \"Default\", \"Default\", \"Default\", \"Default\", \"Default\", \"Default\", \"Default\", \"Default\", \"Default\", \"Topic1\", \"Topic1\", \"Topic1\", \"Topic1\", \"Topic1\", \"Topic1\", \"Topic1\", \"Topic1\", \"Topic1\", \"Topic1\", \"Topic1\", \"Topic1\", \"Topic1\", \"Topic1\", \"Topic1\", \"Topic1\", \"Topic1\", \"Topic1\", \"Topic1\", \"Topic1\", \"Topic1\", \"Topic1\", \"Topic1\", \"Topic1\", \"Topic1\", \"Topic1\", \"Topic1\", \"Topic1\", \"Topic1\", \"Topic1\", \"Topic1\", \"Topic1\", \"Topic1\", \"Topic1\", \"Topic2\", \"Topic2\", \"Topic2\", \"Topic2\", \"Topic2\", \"Topic2\", \"Topic2\", \"Topic2\", \"Topic2\", \"Topic2\", \"Topic2\", \"Topic2\", \"Topic2\", \"Topic2\", \"Topic2\", \"Topic2\", \"Topic2\", \"Topic2\", \"Topic2\", \"Topic2\", \"Topic2\", \"Topic2\", \"Topic2\", \"Topic2\", \"Topic2\", \"Topic2\", \"Topic2\", \"Topic2\", \"Topic2\", \"Topic2\", \"Topic2\", \"Topic2\", \"Topic2\", \"Topic2\", \"Topic2\", \"Topic3\", \"Topic3\", \"Topic3\", \"Topic3\", \"Topic3\", \"Topic3\", \"Topic3\", \"Topic3\", \"Topic3\", \"Topic3\", \"Topic3\", \"Topic3\", \"Topic3\", \"Topic3\", \"Topic3\", \"Topic3\", \"Topic3\", \"Topic3\", \"Topic3\", \"Topic3\", \"Topic3\", \"Topic3\", \"Topic3\", \"Topic3\", \"Topic3\", \"Topic3\", \"Topic3\", \"Topic3\", \"Topic3\", \"Topic3\", \"Topic3\", \"Topic3\", \"Topic4\", \"Topic4\", \"Topic4\", \"Topic4\", \"Topic4\", \"Topic4\", \"Topic4\", \"Topic4\", \"Topic4\", \"Topic4\", \"Topic4\", \"Topic4\", \"Topic4\", \"Topic4\", \"Topic4\", \"Topic4\", \"Topic4\", \"Topic4\", \"Topic4\", \"Topic4\", \"Topic4\", \"Topic4\", \"Topic4\", \"Topic4\", \"Topic4\", \"Topic4\", \"Topic4\", \"Topic4\", \"Topic4\", \"Topic4\", \"Topic4\", \"Topic5\", \"Topic5\", \"Topic5\", \"Topic5\", \"Topic5\", \"Topic5\", \"Topic5\", \"Topic5\", \"Topic5\", \"Topic5\", \"Topic5\", \"Topic5\", \"Topic5\", \"Topic5\", \"Topic5\", \"Topic5\", \"Topic5\", \"Topic5\", \"Topic5\", \"Topic5\", \"Topic5\", \"Topic5\", \"Topic5\", \"Topic5\", \"Topic5\", \"Topic5\", \"Topic5\", \"Topic5\", \"Topic5\", \"Topic5\", \"Topic5\", \"Topic5\", \"Topic5\"], \"logprob\": [30.0, 29.0, 28.0, 27.0, 26.0, 25.0, 24.0, 23.0, 22.0, 21.0, 20.0, 19.0, 18.0, 17.0, 16.0, 15.0, 14.0, 13.0, 12.0, 11.0, 10.0, 9.0, 8.0, 7.0, 6.0, 5.0, 4.0, 3.0, 2.0, 1.0, -3.593600034713745, -2.9465999603271484, -4.199699878692627, -4.199699878692627, -4.199699878692627, -4.199699878692627, -4.199699878692627, -4.199699878692627, -4.199699878692627, -4.199699878692627, -4.199699878692627, -4.199699878692627, -4.199699878692627, -4.199699878692627, -4.199699878692627, -4.199699878692627, -4.199699878692627, -4.199699878692627, -4.199699878692627, -4.199699878692627, -4.199699878692627, -4.199699878692627, -4.199699878692627, -4.199699878692627, -4.199699878692627, -4.199699878692627, -4.199699878692627, -4.199699878692627, -4.199699878692627, -4.199699878692627, -3.5934998989105225, -3.594599962234497, -4.19920015335083, -4.19950008392334, -3.878200054168701, -3.878200054168701, -3.878200054168701, -3.878200054168701, -3.878200054168701, -3.878200054168701, -3.878200054168701, -3.878200054168701, -3.878200054168701, -3.878200054168701, -3.878200054168701, -3.878200054168701, -3.878200054168701, -3.878200054168701, -3.878200054168701, -3.878200054168701, -3.878200054168701, -3.878200054168701, -3.878200054168701, -3.878200054168701, -3.878200054168701, -3.8775999546051025, -3.877500057220459, -3.8782999515533447, -3.878999948501587, -5.6697998046875, -5.6697998046875, -5.6697998046875, -5.6697998046875, -5.6697998046875, -5.6697001457214355, -5.6697001457214355, -5.6697001457214355, -5.6697998046875, -5.6697998046875, -3.593600034713745, -4.199699878692627, -4.199699878692627, -4.199699878692627, -4.199699878692627, -4.199699878692627, -4.199699878692627, -4.199699878692627, -4.199699878692627, -4.199699878692627, -4.199699878692627, -4.199699878692627, -4.199699878692627, -4.199699878692627, -4.199699878692627, -4.199699878692627, -4.199699878692627, -4.199699878692627, -4.199699878692627, -4.199699878692627, -4.199699878692627, -4.199699878692627, -4.199699878692627, -4.199699878692627, -4.199699878692627, -4.199699878692627, -4.199699878692627, -4.199699878692627, -4.199699878692627, -4.199699878692627, -4.19950008392334, -4.199699878692627, -3.385999917984009, -3.385999917984009, -3.385999917984009, -3.9921000003814697, -3.9921000003814697, -3.9921000003814697, -3.9921000003814697, -3.9921000003814697, -3.9921000003814697, -3.9921000003814697, -3.9921000003814697, -3.9921000003814697, -3.9921000003814697, -3.9921000003814697, -3.9921000003814697, -3.9921000003814697, -3.9921000003814697, -3.9921000003814697, -3.9921000003814697, -3.9921000003814697, -3.9921000003814697, -3.9921000003814697, -3.9921000003814697, -3.9921000003814697, -3.9921000003814697, -3.9921000003814697, -3.9921000003814697, -3.9921000003814697, -3.9921000003814697, -5.78380012512207, -5.7835001945495605, -3.502000093460083, -4.1082000732421875, -4.1082000732421875, -4.1082000732421875, -4.1082000732421875, -4.1082000732421875, -4.1082000732421875, -4.1082000732421875, -4.1082000732421875, -4.1082000732421875, -4.1082000732421875, -4.1082000732421875, -4.1082000732421875, -4.1082000732421875, -4.1082000732421875, -4.1082000732421875, -4.1082000732421875, -4.1082000732421875, -4.1082000732421875, -4.1082000732421875, -4.1082000732421875, -4.1082000732421875, -4.1082000732421875, -4.1082000732421875, -4.1082000732421875, -4.1082000732421875, -4.1082000732421875, -4.1082000732421875, -4.1082000732421875, -4.1082000732421875, -3.126300096511841, -4.106800079345703, -4.108099937438965], \"loglift\": [30.0, 29.0, 28.0, 27.0, 26.0, 25.0, 24.0, 23.0, 22.0, 21.0, 20.0, 19.0, 18.0, 17.0, 16.0, 15.0, 14.0, 13.0, 12.0, 11.0, 10.0, 9.0, 8.0, 7.0, 6.0, 5.0, 4.0, 3.0, 2.0, 1.0, 1.1399999856948853, 1.0866999626159668, 0.9521999955177307, 0.9521999955177307, 0.9521999955177307, 0.9521999955177307, 0.9521999955177307, 0.9521999955177307, 0.9521999955177307, 0.9521999955177307, 0.9521999955177307, 0.9521999955177307, 0.9521999955177307, 0.9521999955177307, 0.9521999955177307, 0.9521999955177307, 0.9521999955177307, 0.9521999955177307, 0.9521999955177307, 0.9521999955177307, 0.9521999955177307, 0.9521999955177307, 0.9521999955177307, 0.9521999955177307, 0.9521999955177307, 0.9521999955177307, 0.9521999955177307, 0.9521999955177307, 0.9521999955177307, 0.9521999955177307, 0.8988999724388123, 0.3215000033378601, 0.5396000146865845, 0.5393000245094299, 1.3846999406814575, 1.3846999406814575, 1.3846999406814575, 1.3846999406814575, 1.3846999406814575, 1.3846999406814575, 1.3846999406814575, 1.3846999406814575, 1.3846999406814575, 1.3846999406814575, 1.3846999406814575, 1.3846999406814575, 1.3846999406814575, 1.3846999406814575, 1.3846999406814575, 1.3846999406814575, 1.3846999406814575, 1.3846999406814575, 1.384600043296814, 1.384600043296814, 1.384600043296814, 0.9395999908447266, 0.6279000043869019, 0.6140999794006348, 0.03700000047683716, -0.4510999917984009, -0.4510999917984009, -0.4510999917984009, -0.4510999917984009, -0.4510999917984009, -0.5098999738693237, -0.5098999738693237, -1.217900037765503, -0.9309999942779541, -0.919700026512146, 1.1504000425338745, 0.960099995136261, 0.960099995136261, 0.960099995136261, 0.960099995136261, 0.960099995136261, 0.960099995136261, 0.960099995136261, 0.960099995136261, 0.960099995136261, 0.960099995136261, 0.960099995136261, 0.960099995136261, 0.960099995136261, 0.960099995136261, 0.960099995136261, 0.960099995136261, 0.960099995136261, 0.960099995136261, 0.960099995136261, 0.960099995136261, 0.960099995136261, 0.960099995136261, 0.960099995136261, 0.960099995136261, 0.960099995136261, 0.960099995136261, 0.960099995136261, 0.960099995136261, 0.960099995136261, 0.550599992275238, 0.25209999084472656, 1.4364999532699585, 1.4364999532699585, 1.4364999532699585, 1.2266000509262085, 1.2266000509262085, 1.2266000509262085, 1.2266000509262085, 1.2266000509262085, 1.2266000509262085, 1.2266000509262085, 1.2266000509262085, 1.2266000509262085, 1.2266000509262085, 1.2266000509262085, 1.2266000509262085, 1.2266000509262085, 1.2266000509262085, 1.2266000509262085, 1.2266000509262085, 1.2266000509262085, 1.2266000509262085, 1.2266000509262085, 1.2266000509262085, 1.2266000509262085, 1.2266000509262085, 1.2266000509262085, 1.2266000509262085, 1.2266000509262085, 1.2266000509262085, -0.5209000110626221, -0.6236000061035156, 1.25409996509552, 1.0608999729156494, 1.0608999729156494, 1.0608999729156494, 1.0608999729156494, 1.0608999729156494, 1.0608999729156494, 1.0608999729156494, 1.0608999729156494, 1.0608999729156494, 1.0608999729156494, 1.0608999729156494, 1.0608999729156494, 1.0608999729156494, 1.0608999729156494, 1.0608999729156494, 1.0608999729156494, 1.0608999729156494, 1.0607999563217163, 1.0607999563217163, 1.0607999563217163, 1.0607999563217163, 1.0607999563217163, 1.0607999563217163, 1.0607999563217163, 1.0607999563217163, 1.0607999563217163, 1.0607999563217163, 1.0607999563217163, 1.0607999563217163, 0.7897999882698059, 0.3450999855995178, 0.6366999745368958]}, \"token.table\": {\"Topic\": [3, 3, 1, 3, 1, 5, 1, 1, 3, 4, 5, 1, 2, 1, 5, 5, 1, 3, 4, 4, 1, 5, 1, 1, 5, 5, 2, 4, 2, 5, 2, 2, 3, 5, 2, 4, 3, 3, 4, 4, 5, 2, 5, 2, 1, 4, 1, 5, 3, 5, 1, 3, 1, 1, 5, 2, 1, 4, 1, 3, 5, 2, 1, 2, 1, 4, 1, 5, 4, 3, 5, 5, 4, 4, 2, 3, 2, 1, 3, 1, 5, 4, 3, 5, 5, 4, 1, 1, 1, 3, 3, 5, 1, 3, 4, 1, 2, 5, 3, 5, 1, 3, 1, 3, 3, 4, 5, 1, 5, 4, 5, 5, 1, 3, 5, 4, 5, 4, 4, 4, 5, 2, 3, 1, 4, 3, 2, 3, 5, 3, 2, 3, 3, 3, 4, 2, 5, 5, 4, 4, 2, 3, 4, 2, 3, 2, 4, 3, 2, 3, 2, 3, 5, 4, 1, 1, 5, 1, 2, 2, 5, 3, 3, 1, 3], \"Freq\": [0.9117111563682556, 0.9117109775543213, 0.9045398235321045, 0.9117109775543213, 0.6020312309265137, 0.6020312309265137, 0.9045398235321045, 0.9045389294624329, 0.9117113947868347, 0.6506224274635315, 0.9201399087905884, 0.9045389294624329, 1.0105959177017212, 0.5910447835922241, 0.29552239179611206, 0.920140266418457, 0.9045388102531433, 0.9117109775543213, 0.9669909477233887, 0.9669909477233887, 0.9045389294624329, 0.9201396703720093, 0.9045389294624329, 0.9045389890670776, 0.9201400876045227, 0.9201396107673645, 1.0105990171432495, 0.9669908881187439, 0.6472644805908203, 0.6472644805908203, 1.010595679283142, 1.01059889793396, 0.9117108583450317, 0.9201400876045227, 1.0105986595153809, 0.9669908881187439, 0.9117108583450317, 0.6015411615371704, 0.9669908881187439, 0.9669904112815857, 0.9201399087905884, 1.01059889793396, 0.9201399087905884, 1.0105977058410645, 0.9045388102531433, 0.650622546672821, 0.9045398235321045, 0.9201400876045227, 0.9117109775543213, 0.9201405048370361, 0.5984093546867371, 0.5984093546867371, 0.9045389294624329, 0.9045388102531433, 0.920140266418457, 1.0105990171432495, 0.9045389294624329, 0.9669902920722961, 0.44912150502204895, 0.44912150502204895, 0.44912150502204895, 1.0105986595153809, 0.9045389294624329, 1.01059889793396, 0.9045398831367493, 0.9669909477233887, 0.9045391082763672, 0.9201396703720093, 0.9669909477233887, 0.6051982641220093, 0.6051982641220093, 0.9201400876045227, 0.9669909477233887, 0.6506223678588867, 1.01059889793396, 0.9117114543914795, 1.010597586631775, 0.9045398831367493, 0.9117108583450317, 0.9045398235321045, 0.9201396107673645, 0.9669904112815857, 0.9117108583450317, 0.9201397895812988, 0.920139491558075, 0.9669902920722961, 0.9045388102531433, 0.9045398235321045, 0.9045398235321045, 0.9117142558097839, 0.9117114543914795, 0.9201405048370361, 0.9045387506484985, 0.9117109775543213, 0.9669909477233887, 0.26283860206604004, 0.26283860206604004, 0.5256772041320801, 0.9117109775543213, 0.9201396107673645, 0.9045389890670776, 0.9117114543914795, 0.9045398831367493, 0.911710798740387, 0.9117112755775452, 0.9669910669326782, 0.6089016199111938, 0.9045388102531433, 0.920140266418457, 0.9669904112815857, 0.9201396703720093, 0.9201400876045227, 0.9045389294624329, 0.9117109775543213, 0.920139491558075, 0.9669901728630066, 0.9201400876045227, 0.9669910669326782, 0.9669909477233887, 0.9669907689094543, 0.9201396703720093, 1.010597825050354, 0.9117113947868347, 0.5953121781349182, 0.9669904112815857, 0.9117109775543213, 0.4738216698169708, 0.4738216698169708, 0.4738216698169708, 0.9117111563682556, 1.010595440864563, 0.911710798740387, 0.9117108583450317, 0.9117109775543213, 0.9669908881187439, 1.0105986595153809, 0.9201396107673645, 0.9201396703720093, 0.9669909477233887, 0.9669909477233887, 1.01059889793396, 0.9117111563682556, 0.9669909477233887, 1.0105986595153809, 0.9117112755775452, 1.01059889793396, 0.9669910669326782, 0.9117108583450317, 1.0105990171432495, 0.9117142558097839, 1.0105987787246704, 0.9117114543914795, 0.9201397895812988, 0.9669909477233887, 0.9045398831367493, 0.9045398235321045, 0.9201397895812988, 0.46771830320358276, 0.46771830320358276, 1.0105977058410645, 0.9201400876045227, 0.9117143154144287, 0.9117110967636108, 0.5984102487564087, 0.5984102487564087], \"Term\": [\"-71dbm\", \"2.4&micro;w\", \"accuracy\", \"active\", \"algorithm\", \"algorithm\", \"analytics\", \"antenna\", \"application\", \"approach\", \"approximation\", \"attack\", \"automate\", \"base\", \"base\", \"blackout\", \"broadcast\", \"browsing\", \"cache\", \"capture\", \"cardinality\", \"cepstral\", \"change\", \"channel\", \"coding\", \"coefficient\", \"collaborative\", \"collect\", \"complex\", \"complex\", \"composition\", \"computer\", \"concept\", \"configuration\", \"consensus\", \"consistency\", \"constant\", \"construction\", \"content\", \"continuous\", \"control\", \"create\", \"criterion\", \"current\", \"cyber\", \"database\", \"debug\", \"decoder\", \"delta\", \"deployment\", \"design\", \"design\", \"detection\", \"directional\", \"distribution\", \"documentary\", \"early\", \"efficiency\", \"efficient\", \"efficient\", \"efficient\", \"eigen\", \"energy\", \"environment\", \"error\", \"evaluate\", \"fading\", \"feature\", \"file\", \"flexible\", \"flexible\", \"framework\", \"global\", \"group\", \"growing\", \"histogram\", \"imaging\", \"increase\", \"inductor\", \"infrastructure\", \"inner\", \"integration\", \"interface\", \"interference\", \"kernel\", \"knowledge\", \"large\", \"latency\", \"logging\", \"management\", \"methodology\", \"middleware\", \"minimum\", \"modulator\", \"multiple\", \"network\", \"network\", \"network\", \"node\", \"noise\", \"offset\", \"optimality\", \"overclocking\", \"paper\", \"parallel\", \"partition\", \"power\", \"practical\", \"probability\", \"process\", \"product\", \"propose\", \"rayleigh\", \"receiver\", \"recognition\", \"recommendation\", \"reconfigurable\", \"recovery\", \"relational\", \"report\", \"robust\", \"saturation\", \"scalability\", \"scale\", \"semantics\", \"sensitivity\", \"sensor\", \"sensor\", \"sensor\", \"serial\", \"services\", \"sheaf\", \"sheet\", \"sigma\", \"snapshot\", \"social\", \"sparse\", \"speech\", \"standardization\", \"status\", \"story\", \"strings\", \"strong\", \"study\", \"suffix\", \"support\", \"system\", \"tangible\", \"telling\", \"temporal\", \"theory\", \"tool\", \"topology\", \"transactions\", \"twitter\", \"unify\", \"unreliable\", \"using\", \"using\", \"velocity\", \"video\", \"wikipedia\", \"wimax\", \"wireless\", \"wireless\"]}, \"R\": 30, \"lambda.step\": 0.01, \"plot.opts\": {\"xlab\": \"PC1\", \"ylab\": \"PC2\"}, \"topic.order\": [1, 2, 3, 4, 5]};\n",
              "\n",
              "function LDAvis_load_lib(url, callback){\n",
              "  var s = document.createElement('script');\n",
              "  s.src = url;\n",
              "  s.async = true;\n",
              "  s.onreadystatechange = s.onload = callback;\n",
              "  s.onerror = function(){console.warn(\"failed to load library \" + url);};\n",
              "  document.getElementsByTagName(\"head\")[0].appendChild(s);\n",
              "}\n",
              "\n",
              "if(typeof(LDAvis) !== \"undefined\"){\n",
              "   // already loaded: just create the visualization\n",
              "   !function(LDAvis){\n",
              "       new LDAvis(\"#\" + \"ldavis_el1271401120917002245957564775\", ldavis_el1271401120917002245957564775_data);\n",
              "   }(LDAvis);\n",
              "}else if(typeof define === \"function\" && define.amd){\n",
              "   // require.js is available: use it to load d3/LDAvis\n",
              "   require.config({paths: {d3: \"https://cdnjs.cloudflare.com/ajax/libs/d3/3.5.5/d3.min\"}});\n",
              "   require([\"d3\"], function(d3){\n",
              "      window.d3 = d3;\n",
              "      LDAvis_load_lib(\"https://cdn.rawgit.com/bmabey/pyLDAvis/files/ldavis.v1.0.0.js\", function(){\n",
              "        new LDAvis(\"#\" + \"ldavis_el1271401120917002245957564775\", ldavis_el1271401120917002245957564775_data);\n",
              "      });\n",
              "    });\n",
              "}else{\n",
              "    // require.js not available: dynamically load d3 & LDAvis\n",
              "    LDAvis_load_lib(\"https://cdnjs.cloudflare.com/ajax/libs/d3/3.5.5/d3.min.js\", function(){\n",
              "         LDAvis_load_lib(\"https://cdn.rawgit.com/bmabey/pyLDAvis/files/ldavis.v1.0.0.js\", function(){\n",
              "                 new LDAvis(\"#\" + \"ldavis_el1271401120917002245957564775\", ldavis_el1271401120917002245957564775_data);\n",
              "            })\n",
              "         });\n",
              "}\n",
              "</script>"
            ],
            "text/plain": [
              "<IPython.core.display.HTML object>"
            ]
          },
          "metadata": {
            "tags": []
          },
          "execution_count": 26
        }
      ]
    },
    {
      "cell_type": "code",
      "metadata": {
        "id": "EYR95OzTsNdu",
        "colab_type": "code",
        "colab": {}
      },
      "source": [
        ""
      ],
      "execution_count": 0,
      "outputs": []
    }
  ]
}