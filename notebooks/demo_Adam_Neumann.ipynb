{
 "cells": [
  {
   "cell_type": "code",
   "execution_count": 1,
   "metadata": {},
   "outputs": [],
   "source": [
    "import sys\n",
    "sys.path.append(\"..\")\n",
    "import time\n",
    "from huginn.huginn import Huginn"
   ]
  },
  {
   "cell_type": "markdown",
   "metadata": {},
   "source": [
    "# Create the Huginn instance"
   ]
  },
  {
   "cell_type": "code",
   "execution_count": 5,
   "metadata": {},
   "outputs": [
    {
     "name": "stdout",
     "output_type": "stream",
     "text": [
      "[{'mid': '/m/0130mtsn', 'title': 'Luca Gualco', 'type': 'Professional pianist'}, {'mid': '/m/01306xmp', 'title': 'WeWork', 'type': 'Real estate'}, {'mid': '/g/11f006gfdh', 'title': 'Adam Neumann', 'type': 'Topic'}]\n",
      "Enter the mid you are interested in: /m/01306xmp\n"
     ]
    }
   ],
   "source": [
    "cl = Huginn('Adam Neumann Wework')"
   ]
  },
  {
   "cell_type": "markdown",
   "metadata": {},
   "source": [
    "# Get the anomalies and plot time series"
   ]
  },
  {
   "cell_type": "markdown",
   "metadata": {},
   "source": [
    "$x_n$ is ananomaly if and only if:\n",
    "$\n",
    "x_n -\\hat\\mu_{n-1} > k \\hat\\sigma_{n-1}\n",
    "$"
   ]
  },
  {
   "cell_type": "code",
   "execution_count": 26,
   "metadata": {
    "scrolled": true
   },
   "outputs": [
    {
     "data": {
      "image/png": "[encoded data removed]",
      "text/plain": [
       "<Figure size 1440x360 with 1 Axes>"
      ]
     },
     "metadata": {
      "needs_background": "light"
     },
     "output_type": "display_data"
    },
    {
     "name": "stdout",
     "output_type": "stream",
     "text": [
      "\n",
      "    If you are not happy with these anomalies, you can call the method 'get_anomalies' and\n",
      "    specify the function to get anomalies:\n",
      "    - method = 'constant' with parameter k (set to 1 by default)\n",
      "    - method = 'rolling' with parameters lookback_mean, lookback_std and k (set to 1, 10, 1 by default)\n",
      "    - method = 'ewm' with parameters halflife_mean, halflife_std and k(set to 1,10,1 by default) [default method]\n",
      "    \n"
     ]
    }
   ],
   "source": [
    "cl.get_anomalies(k=6, halflife_mean = 20, halflife_std = 20)\n",
    "cl.plot_interest_with_anomalies()"
   ]
  },
  {
   "cell_type": "markdown",
   "metadata": {},
   "source": [
    "# Retrieve all articles using the NYT API and scraping articles online with their urls"
   ]
  },
  {
   "cell_type": "code",
   "execution_count": 27,
   "metadata": {},
   "outputs": [
    {
     "name": "stdout",
     "output_type": "stream",
     "text": [
      "anomaly n°1: 10 articles were found and 100% were retrieved\n",
      "anomaly n°2: 10 articles were found and 100% were retrieved\n"
     ]
    }
   ],
   "source": [
    "cl.get_articles_info()"
   ]
  },
  {
   "cell_type": "markdown",
   "metadata": {},
   "source": [
    "# Get local summaries (summaries by topics)"
   ]
  },
  {
   "cell_type": "code",
   "execution_count": 28,
   "metadata": {
    "scrolled": true
   },
   "outputs": [
    {
     "name": "stderr",
     "output_type": "stream",
     "text": [
      "Couldn't reach server at 'https://s3.amazonaws.com/models.huggingface.co/bert/facebook/bart-large-cnn/modelcard.json' to download model card file.\n",
      "Creating an empty model card.\n",
      "Couldn't reach server at 'https://s3.amazonaws.com/models.huggingface.co/bert/facebook/bart-large-cnn/modelcard.json' to download model card file.\n",
      "Creating an empty model card.\n",
      "Couldn't reach server at 'https://s3.amazonaws.com/models.huggingface.co/bert/facebook/bart-large-cnn/modelcard.json' to download model card file.\n",
      "Creating an empty model card.\n",
      "Couldn't reach server at 'https://s3.amazonaws.com/models.huggingface.co/bert/facebook/bart-large-cnn/modelcard.json' to download model card file.\n",
      "Creating an empty model card.\n"
     ]
    },
    {
     "data": {
      "text/plain": [
       "{'09-2019': {1: 'WeWork C.E.O. Adam Neumann steps down after a lengthy board meeting. He was under pressure from directors and investors after he led a botched attempt to take the company public. WeWork named two current executives, Sebastian Gunningham and Artie Minson, co-chief executives.',\n",
       "  0: 'Uber and Lyft sold shares earlier this year only to see their prices collapse. Peloton joined the list as its shares slumped in their first day of trading. Investors took a look and backed away, seeing overpriced companies. The rejection threatens Silicon Valley’s favored approach to building companies.'},\n",
       " '10-2019': {1: 'WeWork agrees to a financial lifeline from SoftBank. The Japanese tech giant will accelerate a $1.5 billion investment into WeWork. Mark Zuckerberg is scheduled to testify about his company’s cryptocurrency project, Libra, at a House Financial Services Committee hearing.',\n",
       "  0: 'Former WeWork C.E.O. accuses former chief of staff of discrimination. Altria Group will write down its stake in e-cigarette maker Juul by $4.5 billion. Billionaire Leon Cooperman and Senator Elizabeth Warren clash over Wall Street.'}}"
      ]
     },
     "execution_count": 28,
     "metadata": {},
     "output_type": "execute_result"
    }
   ],
   "source": [
    "cl.get_local_summaries()"
   ]
  },
  {
   "cell_type": "markdown",
   "metadata": {},
   "source": [
    "# 2 ways of having a global summary"
   ]
  },
  {
   "cell_type": "code",
   "execution_count": 29,
   "metadata": {
    "scrolled": true
   },
   "outputs": [
    {
     "name": "stderr",
     "output_type": "stream",
     "text": [
      "Couldn't reach server at 'https://s3.amazonaws.com/models.huggingface.co/bert/facebook/bart-large-cnn/modelcard.json' to download model card file.\n",
      "Creating an empty model card.\n"
     ]
    },
    {
     "data": {
      "text/plain": [
       "'WeWork C.E.O. Adam Neumann steps down after a lengthy board meeting. He was under pressure from directors and investors after he led a botched attempt to take the company public. WeWork named two current executives, Sebastian Gunningham and Artie Minson, co-chief executives.'"
      ]
     },
     "execution_count": 29,
     "metadata": {},
     "output_type": "execute_result"
    }
   ],
   "source": [
    "cl.get_global_summary()"
   ]
  },
  {
   "cell_type": "code",
   "execution_count": 30,
   "metadata": {
    "scrolled": true
   },
   "outputs": [
    {
     "name": "stderr",
     "output_type": "stream",
     "text": [
      "Couldn't reach server at 'https://s3.amazonaws.com/models.huggingface.co/bert/facebook/bart-large-cnn/modelcard.json' to download model card file.\n",
      "Creating an empty model card.\n"
     ]
    },
    {
     "data": {
      "text/plain": [
       "'WeWork C.E.O. Adam Neumann steps down after a lengthy board meeting. He was under pressure from directors and investors after he led a botched attempt to take the company public. WeWork agrees to a financial lifeline from SoftBank. The Japanese tech giant will accelerate a $1.5 billion investment into WeWork.'"
      ]
     },
     "execution_count": 30,
     "metadata": {},
     "output_type": "execute_result"
    }
   ],
   "source": [
    "cl.get_summary_of_summaries()"
   ]
  }
 ],
 "metadata": {
  "kernelspec": {
   "display_name": "Python 3",
   "language": "python",
   "name": "python3"
  },
  "language_info": {
   "codemirror_mode": {
    "name": "ipython",
    "version": 3
   },
   "file_extension": ".py",
   "mimetype": "text/x-python",
   "name": "python",
   "nbconvert_exporter": "python",
   "pygments_lexer": "ipython3",
   "version": "3.6.10"
  }
 },
 "nbformat": 4,
 "nbformat_minor": 4
}
