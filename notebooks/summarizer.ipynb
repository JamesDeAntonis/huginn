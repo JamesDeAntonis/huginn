{
 "cells": [
  {
   "cell_type": "code",
   "execution_count": 3,
   "metadata": {
    "colab": {
     "base_uri": "https://localhost:8080/",
     "height": 1000
    },
    "colab_type": "code",
    "id": "5wnZhu0QyV1h",
    "outputId": "61a08943-cfa3-434c-f085-28a9f05c26cb"
   },
   "outputs": [
    {
     "name": "stdout",
     "output_type": "stream",
     "text": [
      "Collecting pytorch-pretrained-bert\n",
      "\u001b[?25l  Downloading https://files.pythonhosted.org/packages/d7/e0/c08d5553b89973d9a240605b9c12404bcf8227590de62bae27acbcfe076b/pytorch_pretrained_bert-0.6.2-py3-none-any.whl (123kB)\n",
      "\r",
      "\u001b[K     |██▋                             | 10kB 22.0MB/s eta 0:00:01\r",
      "\u001b[K     |█████▎                          | 20kB 6.7MB/s eta 0:00:01\r",
      "\u001b[K     |████████                        | 30kB 9.5MB/s eta 0:00:01\r",
      "\u001b[K     |██████████▋                     | 40kB 5.9MB/s eta 0:00:01\r",
      "\u001b[K     |█████████████▎                  | 51kB 7.2MB/s eta 0:00:01\r",
      "\u001b[K     |███████████████▉                | 61kB 8.5MB/s eta 0:00:01\r",
      "\u001b[K     |██████████████████▌             | 71kB 9.7MB/s eta 0:00:01\r",
      "\u001b[K     |█████████████████████▏          | 81kB 10.9MB/s eta 0:00:01\r",
      "\u001b[K     |███████████████████████▉        | 92kB 12.1MB/s eta 0:00:01\r",
      "\u001b[K     |██████████████████████████▌     | 102kB 9.6MB/s eta 0:00:01\r",
      "\u001b[K     |█████████████████████████████▏  | 112kB 9.6MB/s eta 0:00:01\r",
      "\u001b[K     |███████████████████████████████▊| 122kB 9.6MB/s eta 0:00:01\r",
      "\u001b[K     |████████████████████████████████| 133kB 9.6MB/s \n",
      "\u001b[?25hRequirement already satisfied: boto3 in /usr/local/lib/python3.6/dist-packages (from pytorch-pretrained-bert) (1.11.15)\n",
      "Requirement already satisfied: requests in /usr/local/lib/python3.6/dist-packages (from pytorch-pretrained-bert) (2.21.0)\n",
      "Requirement already satisfied: tqdm in /usr/local/lib/python3.6/dist-packages (from pytorch-pretrained-bert) (4.28.1)\n",
      "Requirement already satisfied: numpy in /usr/local/lib/python3.6/dist-packages (from pytorch-pretrained-bert) (1.17.5)\n",
      "Requirement already satisfied: regex in /usr/local/lib/python3.6/dist-packages (from pytorch-pretrained-bert) (2019.12.20)\n",
      "Requirement already satisfied: torch>=0.4.1 in /usr/local/lib/python3.6/dist-packages (from pytorch-pretrained-bert) (1.4.0)\n",
      "Requirement already satisfied: botocore<1.15.0,>=1.14.15 in /usr/local/lib/python3.6/dist-packages (from boto3->pytorch-pretrained-bert) (1.14.15)\n",
      "Requirement already satisfied: s3transfer<0.4.0,>=0.3.0 in /usr/local/lib/python3.6/dist-packages (from boto3->pytorch-pretrained-bert) (0.3.3)\n",
      "Requirement already satisfied: jmespath<1.0.0,>=0.7.1 in /usr/local/lib/python3.6/dist-packages (from boto3->pytorch-pretrained-bert) (0.9.4)\n",
      "Requirement already satisfied: urllib3<1.25,>=1.21.1 in /usr/local/lib/python3.6/dist-packages (from requests->pytorch-pretrained-bert) (1.24.3)\n",
      "Requirement already satisfied: certifi>=2017.4.17 in /usr/local/lib/python3.6/dist-packages (from requests->pytorch-pretrained-bert) (2019.11.28)\n",
      "Requirement already satisfied: idna<2.9,>=2.5 in /usr/local/lib/python3.6/dist-packages (from requests->pytorch-pretrained-bert) (2.8)\n",
      "Requirement already satisfied: chardet<3.1.0,>=3.0.2 in /usr/local/lib/python3.6/dist-packages (from requests->pytorch-pretrained-bert) (3.0.4)\n",
      "Requirement already satisfied: python-dateutil<3.0.0,>=2.1 in /usr/local/lib/python3.6/dist-packages (from botocore<1.15.0,>=1.14.15->boto3->pytorch-pretrained-bert) (2.6.1)\n",
      "Requirement already satisfied: docutils<0.16,>=0.10 in /usr/local/lib/python3.6/dist-packages (from botocore<1.15.0,>=1.14.15->boto3->pytorch-pretrained-bert) (0.15.2)\n",
      "Requirement already satisfied: six>=1.5 in /usr/local/lib/python3.6/dist-packages (from python-dateutil<3.0.0,>=2.1->botocore<1.15.0,>=1.14.15->boto3->pytorch-pretrained-bert) (1.12.0)\n",
      "Installing collected packages: pytorch-pretrained-bert\n",
      "Successfully installed pytorch-pretrained-bert-0.6.2\n",
      "Requirement already satisfied: spacy in /usr/local/lib/python3.6/dist-packages (2.1.9)\n",
      "Collecting ftfy==4.4.3\n",
      "\u001b[?25l  Downloading https://files.pythonhosted.org/packages/21/5d/9385540977b00df1f3a0c0f07b7e6c15b5e7a3109d7f6ae78a0a764dab22/ftfy-4.4.3.tar.gz (50kB)\n",
      "\u001b[K     |████████████████████████████████| 51kB 4.2MB/s \n",
      "\u001b[?25hRequirement already satisfied: murmurhash<1.1.0,>=0.28.0 in /usr/local/lib/python3.6/dist-packages (from spacy) (1.0.2)\n",
      "Requirement already satisfied: wasabi<1.1.0,>=0.2.0 in /usr/local/lib/python3.6/dist-packages (from spacy) (0.6.0)\n",
      "Requirement already satisfied: plac<1.0.0,>=0.9.6 in /usr/local/lib/python3.6/dist-packages (from spacy) (0.9.6)\n",
      "Requirement already satisfied: numpy>=1.15.0 in /usr/local/lib/python3.6/dist-packages (from spacy) (1.17.5)\n",
      "Requirement already satisfied: srsly<1.1.0,>=0.0.6 in /usr/local/lib/python3.6/dist-packages (from spacy) (1.0.1)\n",
      "Requirement already satisfied: cymem<2.1.0,>=2.0.2 in /usr/local/lib/python3.6/dist-packages (from spacy) (2.0.3)\n",
      "Requirement already satisfied: requests<3.0.0,>=2.13.0 in /usr/local/lib/python3.6/dist-packages (from spacy) (2.21.0)\n",
      "Requirement already satisfied: thinc<7.1.0,>=7.0.8 in /usr/local/lib/python3.6/dist-packages (from spacy) (7.0.8)\n",
      "Requirement already satisfied: preshed<2.1.0,>=2.0.1 in /usr/local/lib/python3.6/dist-packages (from spacy) (2.0.1)\n",
      "Requirement already satisfied: blis<0.3.0,>=0.2.2 in /usr/local/lib/python3.6/dist-packages (from spacy) (0.2.4)\n",
      "Requirement already satisfied: html5lib in /usr/local/lib/python3.6/dist-packages (from ftfy==4.4.3) (1.0.1)\n",
      "Requirement already satisfied: wcwidth in /usr/local/lib/python3.6/dist-packages (from ftfy==4.4.3) (0.1.8)\n",
      "Requirement already satisfied: urllib3<1.25,>=1.21.1 in /usr/local/lib/python3.6/dist-packages (from requests<3.0.0,>=2.13.0->spacy) (1.24.3)\n",
      "Requirement already satisfied: chardet<3.1.0,>=3.0.2 in /usr/local/lib/python3.6/dist-packages (from requests<3.0.0,>=2.13.0->spacy) (3.0.4)\n",
      "Requirement already satisfied: certifi>=2017.4.17 in /usr/local/lib/python3.6/dist-packages (from requests<3.0.0,>=2.13.0->spacy) (2019.11.28)\n",
      "Requirement already satisfied: idna<2.9,>=2.5 in /usr/local/lib/python3.6/dist-packages (from requests<3.0.0,>=2.13.0->spacy) (2.8)\n",
      "Requirement already satisfied: tqdm<5.0.0,>=4.10.0 in /usr/local/lib/python3.6/dist-packages (from thinc<7.1.0,>=7.0.8->spacy) (4.28.1)\n",
      "Requirement already satisfied: webencodings in /usr/local/lib/python3.6/dist-packages (from html5lib->ftfy==4.4.3) (0.5.1)\n",
      "Requirement already satisfied: six>=1.9 in /usr/local/lib/python3.6/dist-packages (from html5lib->ftfy==4.4.3) (1.12.0)\n",
      "Building wheels for collected packages: ftfy\n",
      "  Building wheel for ftfy (setup.py) ... \u001b[?25l\u001b[?25hdone\n",
      "  Created wheel for ftfy: filename=ftfy-4.4.3-cp36-none-any.whl size=41068 sha256=25be9e4b85add32ab188172d83e0b3e9caec2957c561e39bd835de081df5df8d\n",
      "  Stored in directory: /root/.cache/pip/wheels/37/54/00/d320239bfc8aad1455314f302dd82a75253fc585e17b81704e\n",
      "Successfully built ftfy\n",
      "Installing collected packages: ftfy\n",
      "Successfully installed ftfy-4.4.3\n",
      "Requirement already satisfied: en_core_web_sm==2.1.0 from https://github.com/explosion/spacy-models/releases/download/en_core_web_sm-2.1.0/en_core_web_sm-2.1.0.tar.gz#egg=en_core_web_sm==2.1.0 in /usr/local/lib/python3.6/dist-packages (2.1.0)\n",
      "\u001b[38;5;2m✔ Download and installation successful\u001b[0m\n",
      "You can now load the model via spacy.load('en_core_web_sm')\n",
      "\u001b[38;5;2m✔ Linking successful\u001b[0m\n",
      "/usr/local/lib/python3.6/dist-packages/en_core_web_sm -->\n",
      "/usr/local/lib/python3.6/dist-packages/spacy/data/en\n",
      "You can now load the model via spacy.load('en')\n"
     ]
    }
   ],
   "source": [
    "#https://github.com/dmmiller612/bert-extractive-summarizer\n",
    "!pip install pytorch-pretrained-bert\n",
    "!pip install spacy ftfy==4.4.3\n",
    "!python -m spacy download en\n",
    "!pip install bert-extractive-summarizer\n",
    "#!pip install spacy\n",
    "!pip install transformers==2.2.0\n",
    "\n",
    "import torch\n",
    "from pytorch_pretrained_bert import BertTokenizer, BertModel, BertForMaskedLM"
   ]
  },
  {
   "cell_type": "code",
   "execution_count": 7,
   "metadata": {
    "colab": {
     "base_uri": "https://localhost:8080/",
     "height": 898
    },
    "colab_type": "code",
    "id": "57ztA6Rp0GtT",
    "outputId": "fc11164a-6572-41c9-e140-8f34ae7f01dc"
   },
   "outputs": [
    {
     "data": {
      "text/html": [
       "<p style=\"color: red;\">\n",
       "The default version of TensorFlow in Colab will soon switch to TensorFlow 2.x.<br>\n",
       "We recommend you <a href=\"https://www.tensorflow.org/guide/migrate\" target=\"_blank\">upgrade</a> now \n",
       "or ensure your notebook will continue to use TensorFlow 1.x via the <code>%tensorflow_version 1.x</code> magic:\n",
       "<a href=\"https://colab.research.google.com/notebooks/tensorflow_version.ipynb\" target=\"_blank\">more info</a>.</p>\n"
      ],
      "text/plain": [
       "<IPython.core.display.HTML object>"
      ]
     },
     "metadata": {
      "tags": []
     },
     "output_type": "display_data"
    },
    {
     "name": "stderr",
     "output_type": "stream",
     "text": [
      "INFO:transformers.file_utils:PyTorch version 1.4.0 available.\n",
      "INFO:transformers.file_utils:https://s3.amazonaws.com/models.huggingface.co/bert/bert-large-uncased-config.json not found in cache or force_download set to True, downloading to /tmp/tmpubnk3zrs\n",
      "100%|██████████| 362/362 [00:00<00:00, 250426.86B/s]\n",
      "INFO:transformers.file_utils:copying /tmp/tmpubnk3zrs to cache at /root/.cache/torch/transformers/6dfaed860471b03ab5b9acb6153bea82b6632fb9bbe514d3fff050fe1319ee6d.fc076a4d5f1edf25ea3a2bd66e9f6f295dcd64c81dfef5b3f5a3eb2a82751ad1\n",
      "INFO:transformers.file_utils:creating metadata file for /root/.cache/torch/transformers/6dfaed860471b03ab5b9acb6153bea82b6632fb9bbe514d3fff050fe1319ee6d.fc076a4d5f1edf25ea3a2bd66e9f6f295dcd64c81dfef5b3f5a3eb2a82751ad1\n",
      "INFO:transformers.file_utils:removing temp file /tmp/tmpubnk3zrs\n",
      "INFO:transformers.configuration_utils:loading configuration file https://s3.amazonaws.com/models.huggingface.co/bert/bert-large-uncased-config.json from cache at /root/.cache/torch/transformers/6dfaed860471b03ab5b9acb6153bea82b6632fb9bbe514d3fff050fe1319ee6d.fc076a4d5f1edf25ea3a2bd66e9f6f295dcd64c81dfef5b3f5a3eb2a82751ad1\n",
      "INFO:transformers.configuration_utils:Model config {\n",
      "  \"architectures\": [\n",
      "    \"BertForMaskedLM\"\n",
      "  ],\n",
      "  \"attention_probs_dropout_prob\": 0.1,\n",
      "  \"finetuning_task\": null,\n",
      "  \"hidden_act\": \"gelu\",\n",
      "  \"hidden_dropout_prob\": 0.1,\n",
      "  \"hidden_size\": 1024,\n",
      "  \"initializer_range\": 0.02,\n",
      "  \"intermediate_size\": 4096,\n",
      "  \"is_decoder\": false,\n",
      "  \"layer_norm_eps\": 1e-12,\n",
      "  \"max_position_embeddings\": 512,\n",
      "  \"num_attention_heads\": 16,\n",
      "  \"num_hidden_layers\": 24,\n",
      "  \"num_labels\": 2,\n",
      "  \"output_attentions\": false,\n",
      "  \"output_hidden_states\": true,\n",
      "  \"output_past\": true,\n",
      "  \"pruned_heads\": {},\n",
      "  \"torchscript\": false,\n",
      "  \"type_vocab_size\": 2,\n",
      "  \"use_bfloat16\": false,\n",
      "  \"vocab_size\": 30522\n",
      "}\n",
      "\n",
      "INFO:transformers.file_utils:https://s3.amazonaws.com/models.huggingface.co/bert/bert-large-uncased-pytorch_model.bin not found in cache or force_download set to True, downloading to /tmp/tmpgh69pa2f\n",
      "100%|██████████| 1344997306/1344997306 [00:48<00:00, 27777553.45B/s]\n",
      "INFO:transformers.file_utils:copying /tmp/tmpgh69pa2f to cache at /root/.cache/torch/transformers/54da47087cc86ce75324e4dc9bbb5f66c6e83a7c6bd23baea8b489acc8d09aa4.4d5343a4b979c4beeaadef17a0453d1bb183dd9b084f58b84c7cc781df343ae6\n",
      "INFO:transformers.file_utils:creating metadata file for /root/.cache/torch/transformers/54da47087cc86ce75324e4dc9bbb5f66c6e83a7c6bd23baea8b489acc8d09aa4.4d5343a4b979c4beeaadef17a0453d1bb183dd9b084f58b84c7cc781df343ae6\n",
      "INFO:transformers.file_utils:removing temp file /tmp/tmpgh69pa2f\n",
      "INFO:transformers.modeling_utils:loading weights file https://s3.amazonaws.com/models.huggingface.co/bert/bert-large-uncased-pytorch_model.bin from cache at /root/.cache/torch/transformers/54da47087cc86ce75324e4dc9bbb5f66c6e83a7c6bd23baea8b489acc8d09aa4.4d5343a4b979c4beeaadef17a0453d1bb183dd9b084f58b84c7cc781df343ae6\n",
      "INFO:transformers.file_utils:https://s3.amazonaws.com/models.huggingface.co/bert/bert-large-uncased-vocab.txt not found in cache or force_download set to True, downloading to /tmp/tmpkuwxu5zb\n",
      "100%|██████████| 231508/231508 [00:00<00:00, 916870.95B/s]\n",
      "INFO:transformers.file_utils:copying /tmp/tmpkuwxu5zb to cache at /root/.cache/torch/transformers/9b3c03a36e83b13d5ba95ac965c9f9074a99e14340c523ab405703179e79fc46.542ce4285a40d23a559526243235df47c5f75c197f04f37d1a0c124c32c9a084\n",
      "INFO:transformers.file_utils:creating metadata file for /root/.cache/torch/transformers/9b3c03a36e83b13d5ba95ac965c9f9074a99e14340c523ab405703179e79fc46.542ce4285a40d23a559526243235df47c5f75c197f04f37d1a0c124c32c9a084\n",
      "INFO:transformers.file_utils:removing temp file /tmp/tmpkuwxu5zb\n",
      "INFO:transformers.tokenization_utils:loading file https://s3.amazonaws.com/models.huggingface.co/bert/bert-large-uncased-vocab.txt from cache at /root/.cache/torch/transformers/9b3c03a36e83b13d5ba95ac965c9f9074a99e14340c523ab405703179e79fc46.542ce4285a40d23a559526243235df47c5f75c197f04f37d1a0c124c32c9a084\n"
     ]
    },
    {
     "data": {
      "text/plain": [
       "'Something else you want to summarize with BERT'"
      ]
     },
     "execution_count": 7,
     "metadata": {
      "tags": []
     },
     "output_type": "execute_result"
    }
   ],
   "source": [
    "from summarizer import Summarizer\n",
    "\n",
    "body = 'Text body that you want to summarize with BERT'\n",
    "body2 = 'Something else you want to summarize with BERT'\n",
    "model = Summarizer()\n",
    "model(body)\n",
    "model(body2)"
   ]
  },
  {
   "cell_type": "code",
   "execution_count": 8,
   "metadata": {
    "colab": {
     "base_uri": "https://localhost:8080/",
     "height": 574
    },
    "colab_type": "code",
    "id": "932PJzey0O2L",
    "outputId": "25576f61-28be-4131-dbf2-0f7b3eb1a743"
   },
   "outputs": [
    {
     "name": "stderr",
     "output_type": "stream",
     "text": [
      "INFO:transformers.configuration_utils:loading configuration file https://s3.amazonaws.com/models.huggingface.co/bert/bert-large-uncased-config.json from cache at /root/.cache/torch/transformers/6dfaed860471b03ab5b9acb6153bea82b6632fb9bbe514d3fff050fe1319ee6d.fc076a4d5f1edf25ea3a2bd66e9f6f295dcd64c81dfef5b3f5a3eb2a82751ad1\n",
      "INFO:transformers.configuration_utils:Model config {\n",
      "  \"architectures\": [\n",
      "    \"BertForMaskedLM\"\n",
      "  ],\n",
      "  \"attention_probs_dropout_prob\": 0.1,\n",
      "  \"finetuning_task\": null,\n",
      "  \"hidden_act\": \"gelu\",\n",
      "  \"hidden_dropout_prob\": 0.1,\n",
      "  \"hidden_size\": 1024,\n",
      "  \"initializer_range\": 0.02,\n",
      "  \"intermediate_size\": 4096,\n",
      "  \"is_decoder\": false,\n",
      "  \"layer_norm_eps\": 1e-12,\n",
      "  \"max_position_embeddings\": 512,\n",
      "  \"num_attention_heads\": 16,\n",
      "  \"num_hidden_layers\": 24,\n",
      "  \"num_labels\": 2,\n",
      "  \"output_attentions\": false,\n",
      "  \"output_hidden_states\": true,\n",
      "  \"output_past\": true,\n",
      "  \"pruned_heads\": {},\n",
      "  \"torchscript\": false,\n",
      "  \"type_vocab_size\": 2,\n",
      "  \"use_bfloat16\": false,\n",
      "  \"vocab_size\": 30522\n",
      "}\n",
      "\n",
      "INFO:transformers.modeling_utils:loading weights file https://s3.amazonaws.com/models.huggingface.co/bert/bert-large-uncased-pytorch_model.bin from cache at /root/.cache/torch/transformers/54da47087cc86ce75324e4dc9bbb5f66c6e83a7c6bd23baea8b489acc8d09aa4.4d5343a4b979c4beeaadef17a0453d1bb183dd9b084f58b84c7cc781df343ae6\n",
      "INFO:transformers.tokenization_utils:loading file https://s3.amazonaws.com/models.huggingface.co/bert/bert-large-uncased-vocab.txt from cache at /root/.cache/torch/transformers/9b3c03a36e83b13d5ba95ac965c9f9074a99e14340c523ab405703179e79fc46.542ce4285a40d23a559526243235df47c5f75c197f04f37d1a0c124c32c9a084\n"
     ]
    },
    {
     "name": "stdout",
     "output_type": "stream",
     "text": [
      "The Chrysler Building, the famous art deco New York skyscraper, will be sold for a small fraction of its previous sales price. The deal, first reported by The Real Deal, was for $150 million, according to a source familiar with the deal. The building sold fairly quickly after being publicly placed on the market only two months ago. The incentive to sell the building at such a huge loss was due to the soaring rent the owners pay to Cooper Union, a New York college, for the land under the building.\n"
     ]
    }
   ],
   "source": [
    "body = '''\n",
    "The Chrysler Building, the famous art deco New York skyscraper, will be sold for a small fraction of its previous sales price.\n",
    "The deal, first reported by The Real Deal, was for $150 million, according to a source familiar with the deal.\n",
    "Mubadala, an Abu Dhabi investment fund, purchased 90% of the building for $800 million in 2008.\n",
    "Real estate firm Tishman Speyer had owned the other 10%.\n",
    "The buyer is RFR Holding, a New York real estate company.\n",
    "Officials with Tishman and RFR did not immediately respond to a request for comments.\n",
    "It's unclear when the deal will close.\n",
    "The building sold fairly quickly after being publicly placed on the market only two months ago.\n",
    "The sale was handled by CBRE Group.\n",
    "The incentive to sell the building at such a huge loss was due to the soaring rent the owners pay to Cooper Union, a New York college, for the land under the building.\n",
    "The rent is rising from $7.75 million last year to $32.5 million this year to $41 million in 2028.\n",
    "Meantime, rents in the building itself are not rising nearly that fast.\n",
    "While the building is an iconic landmark in the New York skyline, it is competing against newer office towers with large floor-to-ceiling windows and all the modern amenities.\n",
    "Still the building is among the best known in the city, even to people who have never been to New York.\n",
    "It is famous for its triangle-shaped, vaulted windows worked into the stylized crown, along with its distinctive eagle gargoyles near the top.\n",
    "It has been featured prominently in many films, including Men in Black 3, Spider-Man, Armageddon, Two Weeks Notice and Independence Day.\n",
    "The previous sale took place just before the 2008 financial meltdown led to a plunge in real estate prices.\n",
    "Still there have been a number of high profile skyscrapers purchased for top dollar in recent years, including the Waldorf Astoria hotel, which Chinese firm Anbang Insurance purchased in 2016 for nearly $2 billion, and the Willis Tower in Chicago, which was formerly known as Sears Tower, once the world's tallest.\n",
    "Blackstone Group (BX) bought it for $1.3 billion 2015.\n",
    "The Chrysler Building was the headquarters of the American automaker until 1953, but it was named for and owned by Chrysler chief Walter Chrysler, not the company itself.\n",
    "Walter Chrysler had set out to build the tallest building in the world, a competition at that time with another Manhattan skyscraper under construction at 40 Wall Street at the south end of Manhattan. He kept secret the plans for the spire that would grace the top of the building, building it inside the structure and out of view of the public until 40 Wall Street was complete.\n",
    "Once the competitor could rise no higher, the spire of the Chrysler building was raised into view, giving it the title.\n",
    "'''\n",
    "\n",
    "model = Summarizer()\n",
    "result = model(body, min_length=60)\n",
    "full = ''.join(result)\n",
    "print(full)"
   ]
  },
  {
   "cell_type": "code",
   "execution_count": 10,
   "metadata": {
    "colab": {
     "base_uri": "https://localhost:8080/",
     "height": 54
    },
    "colab_type": "code",
    "id": "vDx_s_F-0mUy",
    "outputId": "3b7fe139-bc06-4fec-ae04-3f96eabc7294"
   },
   "outputs": [
    {
     "data": {
      "text/plain": [
       "'The Chrysler Building, the famous art deco New York skyscraper, will be sold for a small fraction of its previous sales price. The deal, first reported by The Real Deal, was for $150 million, according to a source familiar with the deal. The building sold fairly quickly after being publicly placed on the market only two months ago. The incentive to sell the building at such a huge loss was due to the soaring rent the owners pay to Cooper Union, a New York college, for the land under the building.'"
      ]
     },
     "execution_count": 10,
     "metadata": {
      "tags": []
     },
     "output_type": "execute_result"
    }
   ],
   "source": [
    "result"
   ]
  },
  {
   "cell_type": "code",
   "execution_count": 11,
   "metadata": {
    "colab": {
     "base_uri": "https://localhost:8080/",
     "height": 176
    },
    "colab_type": "code",
    "id": "WQMcIFQT1VaP",
    "outputId": "ff8a1971-9288-40e0-f192-fedbea541a57"
   },
   "outputs": [
    {
     "name": "stdout",
     "output_type": "stream",
     "text": [
      "Max length: 10, \n",
      "Max length: 20, \n",
      "Max length: 40, \n",
      "Max length: 80, This past weekend, the album—which mixes rap, ballads and electro-pop—hit No. That is why the recent sex scandals in the industry shocked people.) Love Yourself: Answer” (2018)\n",
      "185,000 units\n",
      "Key song: “Anpanman”\n",
      "4. “\n",
      "Max length: 160, This past weekend, the album—which mixes rap, ballads and electro-pop—hit No. 1 in the U.S. on the Billboard 200 chart, the band’s fourth chart-topper in roughly a year and nine months. Representatives of Big Hit declined to be interviewed.) K-Pop stars and their agencies have long worked to present an idealized image on social media. BTS, by contrast, doesn’t represent “distant perfection,” Ms. Saeji says. One of their biggest themes is their rise as superstars and struggles with fame; they convey that they know they haven’t always been stars. But fans say a considerable amount of thought goes into BTS’s songs and albums, which are full of interconnections and self-referential allusions. Much like Taylor Swift, BTS builds a “Lord of the Rings”-style universe by including Easter eggs—subtle references for diehard fans—in its music and videos.\n"
     ]
    }
   ],
   "source": [
    "#### POP CULTURE TEST ; HAS A LIST IN IT , SEE HOW IT HANDLES THAT , ALSO SOME POST SCRIPT STATS/FIGURES THAT WOULD LIKELY COME THROUGH IN A SCRAPE\n",
    "\n",
    "body = \"\"\"\n",
    "For the Korean boy band BTS, the success of its sprawling, genre-defying pop album “Map of the Soul: 7” is a sign of how the rising K-Pop act is cementing its place in American culture.\n",
    "This past weekend, the album—which mixes rap, ballads and electro-pop—hit No. 1 in the U.S. on the Billboard 200 chart, the band’s fourth chart-topper in roughly a year and nine months.\n",
    "It’s a success story that defies conventional wisdom about the kinds of music Americans will tune into—not least because the songs are mostly sung in Korean. Across style and subject matter, BTS’s music and squeaky-clean image appeal to millennial and Generation Z listeners who are drawn to themes of self-acceptance and empowerment.\n",
    "In the two years since BTS broke through stateside, becoming the first K-Pop act to top the U.S. album chart, the South Korean 20-somethings who formed the group in 2013 have sold out U.S. stadiums to legions of obsessive fans, graced “Saturday Night Live” and performed with Lil Nas X at the Grammy Awards. On their new album, they collaborate with artists like Halsey, Troye Sivan and Ed Sheeran, and their social-media presence, including 24 million Twitter followers, is now a force to be reckoned with. (Recently, the band canceled some South Korean concerts because of the coronavirus.)\n",
    "Even among the many K-Pop acts with loyal fan bases, BTS stands out. Here, seven reasons why a seven-member band that’s been together seven years is finding global success.\n",
    "1) K-Pop’s Big Decade: BTS, whose name stands for “Bangtan Sonyeondan”—which has been translated as “bulletproof boy scouts”—didn’t come from nowhere. It built on the growth of K-Pop, which is popular outside South Korea, especially in Japan, and started gaining traction in the U.S. in the late 1990s and 2000s with acts like Big Bang and, later, Psy (“Gangnam Style”). BTS isn’t becoming a global superstar act alone: Crucial to its rise is the stewardship of Bang Si-hyuk, the CEO of Big Hit Entertainment, the group’s label and agency. (Representatives of Big Hit declined to be interviewed.)\n",
    "2) K-Pop Is About Highly Orchestrated Perfection. BTS Is Not: The difference with BTS, K-Pop experts say, is that Big Hit—an underdog agency when BTS was beginning compared to the country’s three giant agencies—granted the septet personal and creative freedom, resisting the impulse to write their music, script their every move and micromanage their social-media presence. Mr. Bang “perceived that the appearance of artists being too managed by the agencies was hurting the artists,” says CedarBough Saeji, a visiting assistant professor at Indiana University Bloomington who teaches Korean studies.\n",
    "BTS is heavily involved in the writing, production and choreography of its music, videos and dances, even while collaborating with an in-house production crew, including Mr. Bang. That gives them credibility among music fans—especially in the West—who feel many K-Pop acts are manufactured products.\n",
    "3) They Can Rap: A key reason for BTS’s perceived authenticity is that the group has convincing rappers. Historically, K-Pop groups have woven some hip-hop into their mix of pop, electronic, dance and R&B styles. But BTS has full-on rappers who write their own rhymes. “BTS began their career as an independent hip-hop band, rather than the typical ‘idol bands’ managed and controlled by the entertainment agency,” says Lee Gyu-tag, assistant professor of anthropology at George Mason University’s South Korea campus. BTS’s ascent dovetails with the growing popularity of hip-hop in South Korea, where many fans now expect more sophisticated rapping. In the U.S., meanwhile, rap now dominates U.S. pop music more than ever, with traditional pop stars less fluent in hip-hop looking passé.\n",
    "4.) BTS Rules Social Media—and Its Fans Have Clout: South Korea’s biggest musical export is a social-media juggernaut. It’s spent a record 168 weeks at No. 1 on Billboard’s Social 50 chart, which tracks popular artists on Facebook, Twitter, Instagram, YouTube and Wikipedia—currently above Justin Bieber, Lil Nas X and Billie Eilish. “It’s insane,” says Dave Bakula, head of music analytics and insights at Nielsen Music, which supplies data to Billboard’s charts. BTS fans “are passionate to a level that you see very rarely.” That, in turn, translates into action: CD purchases, streams and online postings. According to Ms. Saeji, BTS fans in richer countries have donated money to those in poorer countries to help them buy recordings to improve BTS’s ranking on charts.\n",
    "K-Pop stars and their agencies have long worked to present an idealized image on social media. BTS, by contrast, doesn’t represent “distant perfection,” Ms. Saeji says. One of their biggest themes is their rise as superstars and struggles with fame; they convey that they know they haven’t always been stars. The effect, Ms. Saeji says, is fans think “these are people, like me.”\n",
    "5) They’re Clean—Even For a K-Pop Act: K-Pop has a reputation for being squeaky clean. Agencies keep a tight leash on their charges’ personal lives. (That is why the recent sex scandals in the industry shocked people.) BTS, while relatively independent, is “clean on a whole new level,” Ms. Saeji says, with a focus on songs about self-acceptance and mental health.\n",
    "6) YouTube and Streaming Help BTS: In the age of streaming—when songs are just a click away on YouTube—national boundaries in music are breaking down. Streaming services, whether free like YouTube or Spotify’s subscription service, help K-Pop groups—along with Latin acts, African pop superstars and niche rappers—directly connect with potential fans instead of going through the machinery of the traditional music industry. While BTS has collaborated with artists like Sia and Halsey, such moves are less necessary than they were for acts in prior waves of K-Pop.\n",
    "At the same time, like many acts popular on YouTube and streaming, BTS feeds the digital beast: It puts vocal and dance practices on YouTube, releases music (including rap mixtapes) on SoundCloud for free and has video chats with fans. “It’s a never-ending cycle of entertainment,” says Chris Brown, a 42-year-old fan in Jacksonville, Fla. While language barriers may have once presented a hurdle—BTS’s music is mostly in Korean—fans quickly make translations and circulate them globally.\n",
    "7) It’s Created Its Own Universe: Some music critics say a good deal of BTS’s output is flat, formulaic or derivative. But fans say a considerable amount of thought goes into BTS’s songs and albums, which are full of interconnections and self-referential allusions. The new song “Black Swan,” for example, has lyrics that refer to a track from their debut album, “2 Cool 4 Skool.” Much like Taylor Swift, BTS builds a “Lord of the Rings”-style universe by including Easter eggs—subtle references for diehard fans—in its music and videos. And unlike most bubble-gum pop, the music is ambitious, high-minded and daring, Ms. Saeji says, with references to psychoanalyst Carl Jung and German novelist Hermann Hesse. “It definitely offers something other groups aren’t doing,” she says.\n",
    "BTS’S Four Chart-Toppers\n",
    "1. “Map of the Soul: 7” (2020)\n",
    "422,000 ‘equivalent-album’ units in the U.S. in its first week\n",
    "Key song: “UGH!”\n",
    "2. “Map of the Soul: Persona” (2019)\n",
    "230,000 units\n",
    "Key song: “Boy With Luv (feat. Halsey)”\n",
    "3. “Love Yourself: Answer” (2018)\n",
    "185,000 units\n",
    "Key song: “Anpanman”\n",
    "4. “Love Yourself: Tear” (2018)\n",
    "131,000 units\n",
    "Key song: “FAKE LOVE”\n",
    "Note: Units include album sales, track sales and streaming.\n",
    "Source: Billboard magazine\n",
    "\"\"\"\n",
    "\n",
    "for i in [10,20,40,80,160]:\n",
    "  result = model(body,max_length=i)\n",
    "  print(\"Max length: \"+str(i)+\", \"+result)"
   ]
  },
  {
   "cell_type": "code",
   "execution_count": 14,
   "metadata": {
    "colab": {
     "base_uri": "https://localhost:8080/",
     "height": 54
    },
    "colab_type": "code",
    "id": "F8170kFS3OCT",
    "outputId": "680a2361-9124-4617-e552-3b76a887d6c8"
   },
   "outputs": [
    {
     "data": {
      "text/plain": [
       "'For the Korean boy band BTS, the success of its sprawling, genre-defying pop album “Map of the Soul: 7” is a sign of how the rising K-Pop act is cementing its place in American culture. 1 in the U.S. on the Billboard 200 chart, the band’s fourth chart-topper in roughly a year and nine months. Representatives of Big Hit declined to be interviewed.) That, in turn, translates into action: CD purchases, streams and online postings. K-Pop stars and their agencies have long worked to present an idealized image on social media. One of their biggest themes is their rise as superstars and struggles with fame; they convey that they know they haven’t always been stars. The effect, Ms. Saeji says, is fans think “these are people, like me.” That is why the recent sex scandals in the industry shocked people.) But fans say a considerable amount of thought goes into BTS’s songs and albums, which are full of interconnections and self-referential allusions. Much like Taylor Swift, BTS builds a “Lord of the Rings”-style universe by including Easter eggs—subtle references for diehard fans—in its music and videos.'"
      ]
     },
     "execution_count": 14,
     "metadata": {
      "tags": []
     },
     "output_type": "execute_result"
    }
   ],
   "source": [
    "# 10-80 range is too short, might need some dynamic range setting depending on the length / complexity of the input \n",
    "# initial instinct is to shoot for 20% of the length max \n",
    "result = model(body,max_length=int(len(body.split())*.2))\n",
    "result #Much, much better result"
   ]
  },
  {
   "cell_type": "code",
   "execution_count": 15,
   "metadata": {
    "colab": {
     "base_uri": "https://localhost:8080/",
     "height": 54
    },
    "colab_type": "code",
    "id": "zfpkBkZ03oRc",
    "outputId": "d748a506-329e-488e-ca37-04ba2d51b8f8"
   },
   "outputs": [
    {
     "data": {
      "text/plain": [
       "\"Live Well\\nIf you work at a financial firm, and you get an email from your boss saying that he has come up with a “self-generating money machine,” is that a good thing or a bad thing? On the one hand, just, I mean, you know, a self-generating money machine sounds good; your business is to generate money, and if the machine could do it for you then you could have a lot of it and also spend more time with your family. As Hild was aware, most of Live Well's lenders relied on those inflated prices in loaning money to Live Well through repurchase securities transactions. The value of the bonds fluctuated, which meant that the amount of financing fluctuated, which Live Well didn’t like: If the value of its bonds went down, the repo counterparties would issue a margin call and Live Well would have to come up with more money on short notice. What Live Well wanted was a bit more stability. In February 2015, after a series of conversations with Live Well regarding the strain of short-term price fluctuations, the Pricing Service agreed to begin publishing the quotes Live Well provided to it without any additional evaluation, rather than the Pricing Service’s own independently determined values. Why would you just let the borrower make up the number? It really is a self-generating money machine! Repo Lender 3 and Repo Lender 4 independently determined that the bonds were worth much less than values published by the Pricing Service. But it would have been pretty awkward to have this conversation like two weeks into the scheme, too. High gold prices have triggered a boom in informal and illegal mining since the mid-2000s. The first gold coins were just worth their weight in gold, and the king’s head stamped on them was mostly symbolic, not a guarantee of value; now money is worth what it’s worth because the state says it is. It is a game of collecting information, knowing who might want that information, and putting it to use for profit. So if you want to get a sense of, like, the state of securities fraud in 2019, head on over to the SEC website right now. It combines that painful spelling with a real jackpot of questionable crypto jargon:\\nThe SEC’s complaint alleges that Bise and Mendez misrepresented QyckDeals, a daily deals platform using Bitqy, as a global online marketplace, and falsely claimed that each Bitqy token provided fractional shares of Bitqyck stock through a “smart contract.” TBAC\\nI’m sorry I can’t stop laughing at the Bloomberg headline “Mnuchin’s Bond Advisers Poised to Give Ultra-Longs Thumbs Down.” For myself I am fond of the idea of Treasury perpetuities, as John Cochrane argues for here; it has the administrative and liquidity benefit of replacing a bunch of long bonds with a single perpetual bond (if you want to sell more, you just reopen the single perpetuity rather than issuing a new non-fungible bond), and the aesthetic benefit of being sort of old-timey and quaint. ( Ray Dalio's Flagship Hedge Fund Has Fallen 6% This Year. Good Writers Make Better Hedge Fund Managers. Honeywell Won’t Face SEC Charges Related to Asbestos Accounting. Models, Musicians Face Lawsuits Over Fyre Festival Payments.\""
      ]
     },
     "execution_count": 15,
     "metadata": {
      "tags": []
     },
     "output_type": "execute_result"
    }
   ],
   "source": [
    "# TESTING AN OPINION PAPER , MULTIPLE TOPICS , INCLUDES INFO ABOUT LIVE WELL\n",
    "# VERY DIFFICULT USE CASE , SOME SARCASM/INFORMAL LANGUAGE/HUMOR TO DEAL WITH\n",
    "\n",
    "\n",
    "body = \"\"\"\n",
    "Live Well\n",
    "If you work at a financial firm, and you get an email from your boss saying that he has come up with a “self-generating money machine,” is that a good thing or a bad thing? On the one hand, just, I mean, you know, a self-generating money machine sounds good; your business is to generate money, and if the machine could do it for you then you could have a lot of it and also spend more time with your family. On the other hand, ahhhh, come on, no. You plug in the “self-generating money machine,” it hums to life, then the lights suddenly go out and when they come back on you’re in prison.\n",
    "This civil and criminal fraud case against Live Well Financial Inc. is pretty nuts! From the U.S. Securities and Exchange Commission:\n",
    "According to the complaint, [Chief Executive Officer Michael] Hild directed Live Well to submit falsely inflated bond prices to an industry-leading pricing service, who he knew would simply publish the prices Live Well gave it. As Hild was aware, most of Live Well's lenders relied on those inflated prices in loaning money to Live Well through repurchase securities transactions. Through this alleged scheme – which Hild called a \"self-generating money machine\" – Live Well was able to borrow tens of millions of dollars more from its lenders through the securities transactions than it could have borrowed had the bonds been priced accurately and was able to fund lavish compensation packages for Hild and others.\n",
    "According to the SEC complaint, Live Well was “a reverse mortgage originator and the owner of an investment portfolio of bonds.” The bonds were reverse-mortgage-backed securities, and it funded the portfolio through repo agreements, in which a few counterparties gave it loans for 80-90% of the value of the bonds. The value of the bonds fluctuated, which meant that the amount of financing fluctuated, which Live Well didn’t like: If the value of its bonds went down, the repo counterparties would issue a margin call and Live Well would have to come up with more money on short notice. What Live Well wanted was a bit more stability.\n",
    "And so this insane thing allegedly happened:\n",
    "Beginning in January 2015, Live Well began receiving regular margin calls from its repo lenders resulting from small fluctuations in the Pricing Service’s values.\n",
    "The margin calls by the repo lenders, although relatively small, were unpredictable and put a strain on Live Well’s liquidity. Hild resented them because of their impact on Live Well’s finances and operations.\n",
    "Hild instructed [Darren] Stumberger, Live Well’s portfolio manager throughout the relevant period, and the other members of Live Well’s trading desk to find a way to stop the Pricing Service’s value fluctuations which were triggering the margin calls.\n",
    "In February 2015, after a series of conversations with Live Well regarding the strain of short-term price fluctuations, the Pricing Service agreed to begin publishing the quotes Live Well provided to it without any additional evaluation, rather than the Pricing Service’s own independently determined values.\n",
    "In a February 2015 email received by Hild and [Chief Financial Officer Eric] Rohr, Stumberger explained: “We will be supplying prices daily to [the Pricing Service] and [the Pricing Service] will use these… They will use the prices verbatim and not model these bonds until we are interested in them doing so.”\n",
    "I … would … like to … read more about this negotiation? Like oh sure Hild and Rohr and Stumberger and Live Well have been charged with fraud, and Rohr and Stumberger have pleaded guilty, but what was the “industry-leading pricing service” thinking? The point of a third-party pricing service is that it provides some independent outside check on the prices of bonds, so that repo lenders who lend 90 cents on the dollar can be confident that the bonds they’re lending against are worth a dollar. Why would you just let the borrower make up the number? Sometimes a bond will be obscure and thinly traded and you’ll have to rely on one dealer’s quotes, but Live Well was not a bond dealer, and these all seem to have been Ginnie Mae mortgage-backed securities; it is pretty strange to outsource the valuation to Live Well.\n",
    "Anyway the original point of this seems to have been just to smooth out fluctuations and prevent margin calls, which is bad but understandable. But once you get to make up the prices, you might as well make up really high prices to borrow a lot of money:\n",
    "In September 2015, Live Well, at Hild’s direction, stopped sending quotes to the Pricing Service representing “market value” or “exit price” of bonds, and, instead, started submitting inflated quotes.\n",
    "This practice came to be referred to internally at Live Well as “Scenario 14.” …\n",
    "After Live Well began using Scenario 14, the quotes that it submitted to the Pricing Service were on average 29 percent higher than Live Well’s purchase price, even though Live Well purchased those bonds in arms-length, orderly market transactions. Many of the inflated quotes were sent in by Live Well the same day that it contracted to purchase the bonds but prior to settlement.\n",
    "I wonder what Scenarios 1 to 13 were. Was Scenario 1 like “operate a sound business according to the strictest principles of fair play and honesty,” and Scenario 13 like “murder for hire,” and then they hit on this one? Anyway:\n",
    "As Live Well Employee 1, a junior trader who reported to Stumberger, stated in a September 2015 email: “Basically with [Hild’s] new methodology when we buy something, he looks at how much he can immediately write it up and in turn . . . get cash lending against it….” As a result of the shift to Scenario 14 and relationships with repo lenders that relied on the valuations published by the Pricing Service, Live Well was able to purchase bonds entirely with loan proceeds, i.e., without having to contribute any of its own capital. In fact, Live Well would typically wind up with surplus loan proceeds that would be available for other business expenses, including compensation.\n",
    "If you buy a bond for $12 million, you tell your lenders that it’s worth $15 million, and you borrow $13.5 million against it, then you get the bond for free and you have an extra $1.5 million. Might as well pay yourself a nice bonus. It really is a self-generating money machine!\n",
    "Hild described the bond mismarking scheme as “a self-generating money machine.” This description was apt, in that virtually every bond purchase by Live Well following its implementation of the scheme was fully covered by the loan proceeds, and, in fact, generated extra cash for Live Well. Consequently, Live Well went on a buying spree and its bond portfolio ballooned from a value of $71 million to more than $570 million—as reported by Live Well—in just 18 months.\n",
    "The problem is that it’s not really free: You will eventually have to pay back all the money you borrowed, and it will be super awkward when you tell your lenders that you don’t have it:\n",
    "In the fall of 2018 and spring of 2019, Repo Lender 3 and Repo Lender 4, respectively, sought to verify the values upon which their financing to Live Well was based.\n",
    "Repo Lender 3 and Repo Lender 4 independently determined that the bonds were worth much less than values published by the Pricing Service.\n",
    "Repo Lender 3 and Repo Lender 4 separately informed Live Well that they wanted to discontinue the financing to Live Well.\n",
    "Live Well responded that it lacked the liquidity to repay the lenders. ...\n",
    "On May 3, 2019, Live Well announced that it was winding down its operations and terminating all of its employees.\n",
    "In its May 2019 financial statements, Live Well wrote down the mark-to-market value of its portfolio by $141 million.\n",
    "But it would have been pretty awkward to have this conversation like two weeks into the scheme, too. Once you start on this path, there is nowhere to go but deeper in.\n",
    "Fake gold\n",
    "“A forgery crisis is quietly roiling the world’s gold industry,” it says here, but it’s not what you might think. It’s not, like, people are getting bars of lead or chocolate and passing them off as gold. “Fake gold bars - blocks of cheaper metal plated with gold - are relatively common in the gold industry and often easy to detect.” This is not a story about fake gold, it is a story about faked provenance of gold:\n",
    "The counterfeits in these cases are subtler: The gold is real, and very high purity, with only the markings faked. Fake-branded bars are a relatively new way to flout global measures to block conflict minerals and prevent money-laundering. Such forgeries pose a problem for international refiners, financiers and regulators as they attempt to purge the world of illicit trade in bullion.\n",
    "High gold prices have triggered a boom in informal and illegal mining since the mid-2000s. Without the stamp of a prestigious refinery, such gold would be forced into underground networks, or priced at a discount. By pirating Swiss and other major brands, metal that has been mined or processed in places that would not otherwise be legal or acceptable in the West – for example in parts of Africa, Venezuela or North Korea – can be injected into the market, channeling funds to criminals or regimes that are sanctioned.\n",
    "In the very long run, it seems like the financial system mostly evolves away from fungibility and irreversibility and toward tracing and provenance. The first gold coins were just worth their weight in gold, and the king’s head stamped on them was mostly symbolic, not a guarantee of value; now money is worth what it’s worth because the state says it is. In the olden days there were lots of bearer bonds, and if you had the piece of paper representing the bond, then you could get paid for it; now bonds are mostly registered, and if you want to cash in a bond you have to have acquired it through an approved and traceable series of transactions. We use less cash (an anonymous negotiable bearer instrument whose transactions tend to be irreversible) and more credit cards (which have your name on them and allow charges to be disputed). Even Bitcoin, which is in a sense meant to be “digital cash” that can be spent by anyone who has its private key in irreversible transactions, isn’t quite a substitute for cash: You can, if you want, trace the provenance of a Bitcoin, and there are those who argue that Bitcoins might eventually stop being fungible, as Bitcoins that have passed through illegal transactions become less valuable than those with pristine provenances. Plus when all of our lives are on the blockchain, then all of our financial transactions will carry data with them.\n",
    "There is just more information in the world, and computers make it easier to keep track of, so we do, and our money ends up carrying more information. There are some real conveniences to having a dumb mute negotiable anonymous way to make payments, but still we keep moving away from it.\n",
    "Anyway now just bricks of pure gold are worth more or less depending on what is stamped on them and who did the stamping! Weird times.\n",
    "Robot sales\n",
    "I wrote recently:\n",
    "The trading business of a bank is about buying and selling securities from and to customers. A big part of the job is just knowing who has what and who wants what; if you know that Client A is desperate to unload some bonds and Client B is desperate to buy some of the same bonds, then you can buy low from Client A and sell high to Client B and have a nice little trade for yourself. When I lay it out schematically like that it sounds easy, but all the hard grueling work is really about befriending Client A and Client B, understanding their preferences, getting them to open up to you about what they’re looking to do, building a nuanced sense of how they think and what they want. It is a game of collecting information, knowing who might want that information, and putting it to use for profit. \n",
    "Well, yeah, about that:\n",
    "UBS has created a machine-learning algorithm that shows its salespeople the most likely counterparty to buy or sell a bond. …\n",
    "UBS’s new system makes finding a match for a bond trade easier and quicker and has reduced the average number of calls a salesperson needs to make from five to three, according to Chris Purves, head of the bank’s Strategic Development Lab.\n",
    "The Swiss bank started rolling out the tool, known as Client Scout, in May after testing it earlier in the year. It sends an alert to the bank’s salespeople informing them UBS has a certain position and suggesting the most-likely candidates for the trade, ranked by percentage probability of a match, according to Purves.\n",
    "“This tool is as good as the best salesperson at knowing who to contact to get a trade done,” he said. “It brings everyone up to that level.”\n",
    "You still need the salespeople. “There is a fine balance between human and machine with sales because persuasion, judgment, knowledge and human contact are important, especially in less liquid markets,” says a banker. The robot is probably not yet perfect at figuring out who should buy the bonds—it’s cut the work from five calls to three, not one—and even if it one day does become perfect, someone will still need to make the phone calls. Someone will need to take the customers out to dinner so they’ll take the phone calls. Someone will need to ask the clients what bonds they have and what bonds they want, so that data can be fed into the robot’s system.\n",
    "Still it’s a change. As in so many areas at investment banks, the job requires some combination of analytical skills and creativity and people skills. But also, and arguably at the core, the job is about being a bearer of knowledge, about having the long experience and deep connections and market judgment and so forth that basically reduce to knowing who owns all the bonds and who wants them. Now you can get a computer to do that.\n",
    "Elsewhere at the SEC\n",
    "Look, sure, this is the last week in August and everyone you know is at the beach, but the Securities and Exchange Commission operates on a different calendar, and for the SEC this week has a different significance. Specifically, the SEC’s fiscal year ends on September 30, and so late August marks a mad rush to get all the enforcement actions done. So if you want to get a sense of, like, the state of securities fraud in 2019, head on over to the SEC website right now.\n",
    "Besides Live Well, there are “Bitqyck Inc. and its founders, who allegedly defrauded investors in securities offerings of two digital assets, Bitqy and BitqyM, and operated an unregistered exchange to permit trading in one of them, a digital token called Bitqy.” It combines that painful spelling with a real jackpot of questionable crypto jargon:\n",
    "The SEC’s complaint alleges that Bise and Mendez misrepresented QyckDeals, a daily deals platform using Bitqy, as a global online marketplace, and falsely claimed that each Bitqy token provided fractional shares of Bitqyck stock through a “smart contract.” The complaint alleges that the defendants falsely told investors that BitqyM tokens provided an interest in a Bitqyck cryptocurrency mining facility powered by below-market rate electricity. In reality, Bitqyck did not have access to discounted electricity and didn’t own any mining facility. \n",
    "And then in more throwback scams, there’s an investment adviser accused of “defrauding investors, most of whom were retired NFL players who had joined a class-action lawsuit against the league claiming they suffered brain injuries as a result of concussions,” and someone who allegedly “fraudulently raised hundreds of millions of dollars from investors by claiming to offer investors an opportunity to make short-term, high-interest loans to parties seeking to acquire California alcohol licenses.”\n",
    "TBAC\n",
    "I’m sorry I can’t stop laughing at the Bloomberg headline “Mnuchin’s Bond Advisers Poised to Give Ultra-Longs Thumbs Down.” Because I willfully misread it as “Ultra-Long Thumbs Down.” Like, U.S. Treasury Secretary Steven Mnuchin has a group of close advisers, and they are all distinguished by their freakishly long thumbs, and when they don’t like a policy they signify it by solemnly extending their hands and pointing their enormous digits at the floor. But in fact that is wrong. They have normal thumbs. They are the Treasury Borrowing Advisory Committee, the group of bond investors and banks who advise on Treasury issuance, and they don’t like the idea of a 50- or 100-year U.S. Treasury bond. Fine. Less interesting.\n",
    "For myself I am fond of the idea of Treasury perpetuities, as John Cochrane argues for here; it has the administrative and liquidity benefit of replacing a bunch of long bonds with a single perpetual bond (if you want to sell more, you just reopen the single perpetuity rather than issuing a new non-fungible bond), and the aesthetic benefit of being sort of old-timey and quaint. (Consols! “Perpetuities actually came before long-term bonds,” notes Cochrane. “They were the cornerstone of UK finance for the entire 19th century.”)\n",
    "Things happen\n",
    "Aramco Proposes Two-Stage IPO, Shunning London, Hong Kong. Ray Dalio's Flagship Hedge Fund Has Fallen 6% This Year. Good Writers Make Better Hedge Fund Managers. Alphabet Dips Its Toe Into Infrastructure Investing. Honeywell Won’t Face SEC Charges Related to Asbestos Accounting. Models, Musicians Face Lawsuits Over Fyre Festival Payments. 15 Minutes to ‘Mayhem’: How a Tweet Led to a Shortage at Popeyes. The Sacrificial Rites of Capitalism We Don’t Talk About. A mom with a license plate that reads 'PB4WEGO' wins a battle with the state to keep it. \n",
    "\"\"\"\n",
    "\n",
    "result = model(body,max_length=int(len(body.split())*.2))\n",
    "result"
   ]
  },
  {
   "cell_type": "code",
   "execution_count": 16,
   "metadata": {
    "colab": {
     "base_uri": "https://localhost:8080/",
     "height": 54
    },
    "colab_type": "code",
    "id": "lOwZRqf65U5P",
    "outputId": "b6edb830-2aac-41ac-ac9a-9b1243b61aed"
   },
   "outputs": [
    {
     "data": {
      "text/plain": [
       "\"If you work at a financial firm, and you get an email from your boss saying that he has come up with a “self-generating money machine,” is that a good thing or a bad thing? As Hild was aware, most of Live Well's lenders relied on those inflated prices in loaning money to Live Well through repurchase securities transactions. What Live Well wanted was a bit more stability. After Live Well began using Scenario 14, the quotes that it submitted to the Pricing Service were on average 29 percent higher than Live Well’s purchase price, even though Live Well purchased those bonds in arms-length, orderly market transactions. Was Scenario 1 like “operate a sound business according to the strictest principles of fair play and honesty,” and Scenario 13 like “murder for hire,” and then they hit on this one? It really is a self-generating money machine! Repo Lender 3 and Repo Lender 4 independently determined that the bonds were worth much less than values published by the Pricing Service. Live Well responded that it lacked the liquidity to repay the lenders. ...\""
      ]
     },
     "execution_count": 16,
     "metadata": {
      "tags": []
     },
     "output_type": "execute_result"
    }
   ],
   "source": [
    "#MANUALLY LIMITING ABOVE TO LIVE WELL SECTION TO SEE IMPROVEMENT \n",
    "body = \"\"\"\n",
    "If you work at a financial firm, and you get an email from your boss saying that he has come up with a “self-generating money machine,” is that a good thing or a bad thing? On the one hand, just, I mean, you know, a self-generating money machine sounds good; your business is to generate money, and if the machine could do it for you then you could have a lot of it and also spend more time with your family. On the other hand, ahhhh, come on, no. You plug in the “self-generating money machine,” it hums to life, then the lights suddenly go out and when they come back on you’re in prison.\n",
    "This civil and criminal fraud case against Live Well Financial Inc. is pretty nuts! From the U.S. Securities and Exchange Commission:\n",
    "According to the complaint, [Chief Executive Officer Michael] Hild directed Live Well to submit falsely inflated bond prices to an industry-leading pricing service, who he knew would simply publish the prices Live Well gave it. As Hild was aware, most of Live Well's lenders relied on those inflated prices in loaning money to Live Well through repurchase securities transactions. Through this alleged scheme – which Hild called a \"self-generating money machine\" – Live Well was able to borrow tens of millions of dollars more from its lenders through the securities transactions than it could have borrowed had the bonds been priced accurately and was able to fund lavish compensation packages for Hild and others.\n",
    "According to the SEC complaint, Live Well was “a reverse mortgage originator and the owner of an investment portfolio of bonds.” The bonds were reverse-mortgage-backed securities, and it funded the portfolio through repo agreements, in which a few counterparties gave it loans for 80-90% of the value of the bonds. The value of the bonds fluctuated, which meant that the amount of financing fluctuated, which Live Well didn’t like: If the value of its bonds went down, the repo counterparties would issue a margin call and Live Well would have to come up with more money on short notice. What Live Well wanted was a bit more stability.\n",
    "And so this insane thing allegedly happened:\n",
    "Beginning in January 2015, Live Well began receiving regular margin calls from its repo lenders resulting from small fluctuations in the Pricing Service’s values.\n",
    "The margin calls by the repo lenders, although relatively small, were unpredictable and put a strain on Live Well’s liquidity. Hild resented them because of their impact on Live Well’s finances and operations.\n",
    "Hild instructed [Darren] Stumberger, Live Well’s portfolio manager throughout the relevant period, and the other members of Live Well’s trading desk to find a way to stop the Pricing Service’s value fluctuations which were triggering the margin calls.\n",
    "In February 2015, after a series of conversations with Live Well regarding the strain of short-term price fluctuations, the Pricing Service agreed to begin publishing the quotes Live Well provided to it without any additional evaluation, rather than the Pricing Service’s own independently determined values.\n",
    "In a February 2015 email received by Hild and [Chief Financial Officer Eric] Rohr, Stumberger explained: “We will be supplying prices daily to [the Pricing Service] and [the Pricing Service] will use these… They will use the prices verbatim and not model these bonds until we are interested in them doing so.”\n",
    "I … would … like to … read more about this negotiation? Like oh sure Hild and Rohr and Stumberger and Live Well have been charged with fraud, and Rohr and Stumberger have pleaded guilty, but what was the “industry-leading pricing service” thinking? The point of a third-party pricing service is that it provides some independent outside check on the prices of bonds, so that repo lenders who lend 90 cents on the dollar can be confident that the bonds they’re lending against are worth a dollar. Why would you just let the borrower make up the number? Sometimes a bond will be obscure and thinly traded and you’ll have to rely on one dealer’s quotes, but Live Well was not a bond dealer, and these all seem to have been Ginnie Mae mortgage-backed securities; it is pretty strange to outsource the valuation to Live Well.\n",
    "Anyway the original point of this seems to have been just to smooth out fluctuations and prevent margin calls, which is bad but understandable. But once you get to make up the prices, you might as well make up really high prices to borrow a lot of money:\n",
    "In September 2015, Live Well, at Hild’s direction, stopped sending quotes to the Pricing Service representing “market value” or “exit price” of bonds, and, instead, started submitting inflated quotes.\n",
    "This practice came to be referred to internally at Live Well as “Scenario 14.” …\n",
    "After Live Well began using Scenario 14, the quotes that it submitted to the Pricing Service were on average 29 percent higher than Live Well’s purchase price, even though Live Well purchased those bonds in arms-length, orderly market transactions. Many of the inflated quotes were sent in by Live Well the same day that it contracted to purchase the bonds but prior to settlement.\n",
    "I wonder what Scenarios 1 to 13 were. Was Scenario 1 like “operate a sound business according to the strictest principles of fair play and honesty,” and Scenario 13 like “murder for hire,” and then they hit on this one? Anyway:\n",
    "As Live Well Employee 1, a junior trader who reported to Stumberger, stated in a September 2015 email: “Basically with [Hild’s] new methodology when we buy something, he looks at how much he can immediately write it up and in turn . . . get cash lending against it….” As a result of the shift to Scenario 14 and relationships with repo lenders that relied on the valuations published by the Pricing Service, Live Well was able to purchase bonds entirely with loan proceeds, i.e., without having to contribute any of its own capital. In fact, Live Well would typically wind up with surplus loan proceeds that would be available for other business expenses, including compensation.\n",
    "If you buy a bond for $12 million, you tell your lenders that it’s worth $15 million, and you borrow $13.5 million against it, then you get the bond for free and you have an extra $1.5 million. Might as well pay yourself a nice bonus. It really is a self-generating money machine!\n",
    "Hild described the bond mismarking scheme as “a self-generating money machine.” This description was apt, in that virtually every bond purchase by Live Well following its implementation of the scheme was fully covered by the loan proceeds, and, in fact, generated extra cash for Live Well. Consequently, Live Well went on a buying spree and its bond portfolio ballooned from a value of $71 million to more than $570 million—as reported by Live Well—in just 18 months.\n",
    "The problem is that it’s not really free: You will eventually have to pay back all the money you borrowed, and it will be super awkward when you tell your lenders that you don’t have it:\n",
    "In the fall of 2018 and spring of 2019, Repo Lender 3 and Repo Lender 4, respectively, sought to verify the values upon which their financing to Live Well was based.\n",
    "Repo Lender 3 and Repo Lender 4 independently determined that the bonds were worth much less than values published by the Pricing Service.\n",
    "Repo Lender 3 and Repo Lender 4 separately informed Live Well that they wanted to discontinue the financing to Live Well.\n",
    "Live Well responded that it lacked the liquidity to repay the lenders. ...\n",
    "On May 3, 2019, Live Well announced that it was winding down its operations and terminating all of its employees.\n",
    "In its May 2019 financial statements, Live Well wrote down the mark-to-market value of its portfolio by $141 million.\n",
    "But it would have been pretty awkward to have this conversation like two weeks into the scheme, too. Once you start on this path, there is nowhere to go but deeper in.\n",
    "\"\"\"\n",
    "\n",
    "result = model(body,max_length=int(len(body.split())*.2))\n",
    "result"
   ]
  },
  {
   "cell_type": "code",
   "execution_count": 22,
   "metadata": {
    "colab": {
     "base_uri": "https://localhost:8080/",
     "height": 89
    },
    "colab_type": "code",
    "id": "KnNW8TWa6JbJ",
    "outputId": "d0208470-09ea-49f2-beb3-6a52d54f79c6"
   },
   "outputs": [
    {
     "name": "stdout",
     "output_type": "stream",
     "text": [
      "Orig summary: The U.S. death toll for the novel coronavirus grew to at least 19 Saturday as states and countries around the world escalated their efforts to combat the rapidly spreading viral infection. Across the U.S., officials have canceled conferences and events, public health leaders have urged residents to avoid large crowds when possible, schools and universities have moved classes online and businesses have made employees work from home. Two people who had recently traveled abroad died in Florida, according to the state’s Department of Health. He also said the government was assessing a second cruise ship that may include shared crew members. Recent guidance from the agency has told physicians to use their judgment to determine whether a patient should be tested. Efforts to limit large group gatherings spread, too. As officials scrambled to contain the disease, problems emerged. The city of Kent, where the motel is located, filed a temporary restraining order against King County, which has at least 58 confirmed cases. Federal medical professionals were expected to arrive at the nursing home this weekend to help staff in containing the outbreak. A U.S. Marine was believed to be infected with coronavirus after traveling overseas, the Pentagon said Saturday, making him the first person to test positive in Virginia. Japan logged 60 new cases on Friday, raising its tally to 408. In a drastic effort to prevent its spread, the Italian government is planning to lock down 16 million people—more than a quarter of its population, The Wall Street Journal reported.\n",
      "Summary of summary: Two people who had recently traveled abroad died in Florida, according to the state’s Department of Health. Recent guidance from the agency has told physicians to use their judgment to determine whether a patient should be tested.\n",
      "Shorter summary: Florida reported the first two deaths on the U.S. East Coast as Washington, D.C., diagnosed its first presumptive case. He also pushed residents to understand how the virus affects elderly individuals with underlying medical conditions, in particular. Meanwhile, thousands of passengers aboard the Grand Princess cruise ship were held offshore this week amid an outbreak on board. Federal medical professionals were expected to arrive at the nursing home this weekend to help staff in containing the outbreak. Japan logged 60 new cases on Friday, raising its tally to 408.\n"
     ]
    }
   ],
   "source": [
    "# STRAIGHTFORWARD NEWS HEADLINE \n",
    "# TESTING SHORTER SUMMARY VS SUMMARY OF A SUMMARY\n",
    "\n",
    "body = \"\"\"\n",
    "The U.S. death toll for the novel coronavirus grew to at least 19 Saturday as states and countries around the world escalated their efforts to combat the rapidly spreading viral infection.\n",
    "Florida reported the first two deaths on the U.S. East Coast as Washington, D.C., diagnosed its first presumptive case. In Washington state, new deaths were reported and infections rose above 100, and New York state declared a state of emergency as officials announced a jump in new cases.\n",
    "Across the U.S., officials have canceled conferences and events, public health leaders have urged residents to avoid large crowds when possible, schools and universities have moved classes online and businesses have made employees work from home.\n",
    "The American Conservative Union said late Saturday one attendee at its popular Conservative Political Action Conference in Maryland last month tested positive for the virus at a hospital in New Jersey. The organization said the individual didn’t interact with President Trump or Vice President Mike Pence, who both attended CPAC this year.\n",
    "Two people who had recently traveled abroad died in Florida, according to the state’s Department of Health. These patients were both elderly individuals with underlying health conditions, Florida Gov. Ron DeSantis said, further exhibiting the virus’s disproportionate impact on this vulnerable population. One death was of a patient previously announced in Santa Rosa county, and the other was a new case, a person in their late 70s in Lee county. These deaths, in addition to more in Washington’s hard-hit King County, raised the number of fatalities in the U.S. to at least 19.\n",
    "Florida health authorities also announced two additional cases, bringing the total number of infections in the state to 13. Seven are Florida residents, five are repatriated and one is a non-Florida resident, according to health authorities. Overall cases in the U.S. have shot up to 376, according to data compiled by Johns Hopkins University, as testing continues to expand and criteria for undergoing a test widen.\n",
    "Gov. DeSantis, who met Saturday with Mr. Pence, state officials and cruise-line industry leaders, encouraged residents to avoid large crowds and acquire weeks’ worth of food and medical supplies, should measures like a quarantine become necessary. He also pushed residents to understand how the virus affects elderly individuals with underlying medical conditions, in particular.\n",
    "“It is just a good time to practice common sense to protect your health, the health of your family and the health of the community,” Mr. Pence said at the meeting in Fort Lauderdale Saturday.\n",
    "Meanwhile, thousands of passengers aboard the Grand Princess cruise ship were held offshore this week amid an outbreak on board. Twenty-one people, including 19 crew members, tested positive for the disease, and the U.S. Coast Guard delivered gloves and face masks, among other equipment, to the ship Friday evening.\n",
    "Carnival on Saturday said a critically ill U.S. passenger and a travel companion were transported to a shoreside medical facility by a U.S. Coast Guard cutter for treatment unrelated to coronavirus. It said the ship is about 50 miles off the coast of San Francisco, where city officials said six more residents tested positive for the virus Saturday.\n",
    "Mr. Pence said officials plan to dock the ship at a noncommercial port. He also said the government was assessing a second cruise ship that may include shared crew members.\n",
    "After meeting with the cruise-line industry leaders and Florida officials, Mr. Pence said cruises will begin to enhance their entry and exit screenings and create new quarantine standards, among other measures.\n",
    "The vice president said doctors can now prescribe testing to any American, regardless of their symptoms, due to updated guidance from the Centers for Disease Control and Prevention. Recent guidance from the agency has told physicians to use their judgment to determine whether a patient should be tested.\n",
    "A total of 1.1 million tests were shipped to health labs as of Friday night, and another million were scheduled to be sent by Monday, U.S. Food and Drug Commissioner Stephen Hahn said. Because multiple tests are often used on a single patient, that should be enough tests to screen at least 850,000 Americans, he said.\n",
    "In an indication of just how the virus spreads—and how hard it is to contain—in New York, there are an additional 36 cases in Westchester County, Gov. Andrew Cuomo said. All the new cases are connected to a 50-year-old lawyer from New Rochelle, officials said. About 1,000 people were quarantined earlier this week due to the lawyer’s case.\n",
    "There are also a handful of cases in Rockland, Saratoga and Nassau counties, as well as New York City, which now has 12 confirmed cases, Mayor Bill de Blasio said. New patients include two more family members of an Upper West Side man who contracted the virus, an Uber driver in his 30s, and a Brooklyn man in his 30s who is in serious condition.\n",
    "Only 10 people with confirmed infections—which now number 89—in New York state have required hospitalization, Mr. Cuomo said. Roughly 80% of the global cases are mild and typically resolve without any medical intervention, health authorities say.\n",
    "Efforts to limit large group gatherings spread, too.\n",
    "Stanford University in California moved all its classes online for the last two weeks of the semester and canceled its prospective student weekend at the end of April, citing increasing spread of the novel virus in the region.\n",
    "Stanford, which enrolls more than 16,000 students, is located in Santa Clara County, one of the early hot spots in the U.S., with 24 confirmed Covid-19 cases, according to local health officials. The university will remain open, according to a letter from the provost, though employees should look for opportunities to telecommute if possible.\n",
    "As officials scrambled to contain the disease, problems emerged. In Washington state, plans from King County health officials to purchase a motel to house Covid-19 patients received pushback. The city of Kent, where the motel is located, filed a temporary restraining order against King County, which has at least 58 confirmed cases. The order was denied by a King County Superior Court judge, according to a statement released by King County Executive Dow Constantine’s office.\n",
    "The city of Kent didn’t immediately respond to request for comment.\n",
    "The death toll in King County, where an outbreak at a nursing home left a number of residents dead and their families searching for answers, grew Saturday. Four residents of the Life Care Center nursing home, all in their 70s or 80s, were the most recent deaths reported by county public health officials. Federal medical professionals were expected to arrive at the nursing home this weekend to help staff in containing the outbreak.\n",
    "The county public health department said there were now “no restrictions” on who could be tested for the virus, as commercial testing grew, but warned there was limited capacity in how quickly health-care providers can obtain samples and process lab results.\n",
    "A U.S. Marine was believed to be infected with coronavirus after traveling overseas, the Pentagon said Saturday, making him the first person to test positive in Virginia. The sergeant major is being treated at a military hospital in Fort Belvoir, Va. The hospital also advised his family to self-quarantine, defense officials said. He initially tested positive for the virus and will likely undergo additional tests, the officials said.\n",
    "Japan logged 60 new cases on Friday, raising its tally to 408. Malaysia also reported its largest one-day increase with 28 new cases on Friday, lifting the Southeast Asian nation’s total to 83. The neighboring city-state of Singapore, meanwhile, said it discovered 13 new cases, also its biggest single-day increase, for a total of 130.\n",
    "South Korea, the country worst hit by the coronavirus apart from China, said it found 483 new infections on Friday, bringing its total to 6,767 cases.\n",
    "Italy, the worst-hit country in Europe, said Friday evening it logged 620 new coronavirus cases and 49 fatalities over the preceding 24-hour period. Its death toll of 233 is the highest outside of China. In a drastic effort to prevent its spread, the Italian government is planning to lock down 16 million people—more than a quarter of its population, The Wall Street Journal reported.\n",
    "\"\"\"\n",
    "\n",
    "result = model(body,max_length=int(len(body.split())*.2))\n",
    "print(\"Orig summary: \"+result)\n",
    "\n",
    "result2 = model(result, max_length=int(len(result.split())*.5))\n",
    "print(\"Summary of summary: \"+result2)\n",
    "\n",
    "result3 = model(body, max_length=int(len(body.split())*.1))\n",
    "print(\"Shorter summary: \"+result3)"
   ]
  },
  {
   "cell_type": "code",
   "execution_count": 0,
   "metadata": {
    "colab": {},
    "colab_type": "code",
    "id": "v0Dtf7P88esa"
   },
   "outputs": [],
   "source": []
  }
 ],
 "metadata": {
  "accelerator": "GPU",
  "colab": {
   "name": "summarizer.ipynb",
   "provenance": []
  },
  "kernelspec": {
   "display_name": "Python 3",
   "language": "python",
   "name": "python3"
  },
  "language_info": {
   "codemirror_mode": {
    "name": "ipython",
    "version": 3
   },
   "file_extension": ".py",
   "mimetype": "text/x-python",
   "name": "python",
   "nbconvert_exporter": "python",
   "pygments_lexer": "ipython3",
   "version": "3.6.10"
  }
 },
 "nbformat": 4,
 "nbformat_minor": 1
}
