{
 "cells": [
  {
   "cell_type": "code",
   "execution_count": 1,
   "metadata": {},
   "outputs": [],
   "source": [
    "import requests\n",
    "from bs4 import BeautifulSoup\n",
    "import pandas as pd\n",
    "from pytrends.request import TrendReq\n",
    "import numpy as np"
   ]
  },
  {
   "cell_type": "code",
   "execution_count": 2,
   "metadata": {},
   "outputs": [],
   "source": [
    "pytrends = TrendReq(hl='en-US', #language\n",
    "                    tz=360) #timezone (US CST is 360)"
   ]
  },
  {
   "cell_type": "code",
   "execution_count": 3,
   "metadata": {},
   "outputs": [],
   "source": [
    "def get_n():\n",
    "    n = int(input('How many word would you like to search? '))\n",
    "    return n"
   ]
  },
  {
   "cell_type": "code",
   "execution_count": 4,
   "metadata": {},
   "outputs": [
    {
     "name": "stdout",
     "output_type": "stream",
     "text": [
      "How many word would you like to search? 2\n",
      "word number 1: Apple\n",
      "[{'mid': '/m/0k8z', 'title': 'Apple', 'type': 'Technology company'}, {'mid': '/m/014j1m', 'title': 'Apple', 'type': 'Fruit'}, {'mid': '/g/11c1s04k8p', 'title': 'AirPods', 'type': 'Headphones'}, {'mid': '/m/027lnzs', 'title': 'iPhone', 'type': 'Mobile phone'}, {'mid': '/g/122z2s28', 'title': 'Apple', 'type': 'Plants'}]\n",
      "Enter the mid you are interested in: /m/0k8z\n",
      "word number 2: Facebook\n",
      "[{'mid': '/m/02y1vz', 'title': 'Facebook', 'type': 'Social networking service'}, {'mid': '/m/0hmyfsv', 'title': 'Facebook, Inc.', 'type': 'Social media company'}, {'mid': '/m/0crj9_l', 'title': 'Face book', 'type': 'Topic'}, {'mid': '/g/11c5h24bx2', 'title': 'Facebook', 'type': 'Topic'}, {'mid': '/g/1q5bmrr0t', 'title': 'Facebook', 'type': 'Topic'}]\n",
      "Enter the mid you are interested in: /m/02y1vz\n"
     ]
    }
   ],
   "source": [
    "#Be careful, the scale is not for each keyword but overall\n",
    "n = get_n()\n",
    "kw_list = []\n",
    "mids = []\n",
    "for i in range(n):\n",
    "    kw_list.append(input('word number ' + str(i+1) + ': '))\n",
    "    print(pytrends.suggestions(kw_list[-1]))\n",
    "    mids.append(input('Enter the mid you are interested in: '))"
   ]
  },
  {
   "cell_type": "code",
   "execution_count": 5,
   "metadata": {
    "scrolled": true
   },
   "outputs": [
    {
     "data": {
      "text/html": [
       "<div>\n",
       "<style scoped>\n",
       "    .dataframe tbody tr th:only-of-type {\n",
       "        vertical-align: middle;\n",
       "    }\n",
       "\n",
       "    .dataframe tbody tr th {\n",
       "        vertical-align: top;\n",
       "    }\n",
       "\n",
       "    .dataframe thead th {\n",
       "        text-align: right;\n",
       "    }\n",
       "</style>\n",
       "<table border=\"1\" class=\"dataframe\">\n",
       "  <thead>\n",
       "    <tr style=\"text-align: right;\">\n",
       "      <th></th>\n",
       "      <th>Apple</th>\n",
       "      <th>Facebook</th>\n",
       "    </tr>\n",
       "    <tr>\n",
       "      <th>date</th>\n",
       "      <th></th>\n",
       "      <th></th>\n",
       "    </tr>\n",
       "  </thead>\n",
       "  <tbody>\n",
       "    <tr>\n",
       "      <th>2004-01-01</th>\n",
       "      <td>19</td>\n",
       "      <td>0</td>\n",
       "    </tr>\n",
       "    <tr>\n",
       "      <th>2004-02-01</th>\n",
       "      <td>18</td>\n",
       "      <td>0</td>\n",
       "    </tr>\n",
       "    <tr>\n",
       "      <th>2004-03-01</th>\n",
       "      <td>17</td>\n",
       "      <td>0</td>\n",
       "    </tr>\n",
       "    <tr>\n",
       "      <th>2004-04-01</th>\n",
       "      <td>16</td>\n",
       "      <td>0</td>\n",
       "    </tr>\n",
       "    <tr>\n",
       "      <th>2004-05-01</th>\n",
       "      <td>16</td>\n",
       "      <td>0</td>\n",
       "    </tr>\n",
       "  </tbody>\n",
       "</table>\n",
       "</div>"
      ],
      "text/plain": [
       "            Apple  Facebook\n",
       "date                       \n",
       "2004-01-01     19         0\n",
       "2004-02-01     18         0\n",
       "2004-03-01     17         0\n",
       "2004-04-01     16         0\n",
       "2004-05-01     16         0"
      ]
     },
     "execution_count": 5,
     "metadata": {},
     "output_type": "execute_result"
    }
   ],
   "source": [
    "data = pd.DataFrame()\n",
    "for mid, kw in zip(mids, kw_list):\n",
    "    pytrends.build_payload([mid], #up to 5 terms in the list\n",
    "                           cat=0, #default to no category\n",
    "                           timeframe='all', #Date to start from \n",
    "                           geo='', #two letter country abreviation (default to world)\n",
    "                           gprop='') #what property to filter to (images, news, youtube or froogle \n",
    "                                     #(for Google Shopping results))\n",
    "    tmp_data = pytrends.interest_over_time()\n",
    "    tmp_data = tmp_data.iloc[:,:-1]\n",
    "    tmp_data.columns = [kw]\n",
    "    data = pd.concat([data,tmp_data], axis = 1)\n",
    "data.head()"
   ]
  },
  {
   "cell_type": "code",
   "execution_count": 14,
   "metadata": {},
   "outputs": [
    {
     "data": {
      "image/png": "[encoded data removed]",
      "text/plain": [
       "<Figure size 432x288 with 1 Axes>"
      ]
     },
     "metadata": {
      "needs_background": "light"
     },
     "output_type": "display_data"
    }
   ],
   "source": [
    "import matplotlib.pyplot as plt\n",
    "for col in data.columns:\n",
    "    plt.plot(data[col], label = col)\n",
    "plt.legend()\n",
    "plt.xlabel('Year')\n",
    "plt.ylabel('Number of searches')\n",
    "plt.title('Number of Google searches (scale out of 100)')\n",
    "plt.show()"
   ]
  }
 ],
 "metadata": {
  "kernelspec": {
   "display_name": "Python 3",
   "language": "python",
   "name": "python3"
  },
  "language_info": {
   "codemirror_mode": {
    "name": "ipython",
    "version": 3
   },
   "file_extension": ".py",
   "mimetype": "text/x-python",
   "name": "python",
   "nbconvert_exporter": "python",
   "pygments_lexer": "ipython3",
   "version": "3.7.3"
  }
 },
 "nbformat": 4,
 "nbformat_minor": 4
}
