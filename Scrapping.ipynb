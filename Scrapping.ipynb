{
 "cells": [
  {
   "cell_type": "code",
   "execution_count": 1,
   "metadata": {},
   "outputs": [],
   "source": [
    "import requests\n",
    "import json\n",
    "from bs4 import BeautifulSoup"
   ]
  },
  {
   "cell_type": "code",
   "execution_count": 2,
   "metadata": {},
   "outputs": [],
   "source": [
    "api_key = 'BUGbVCRM9Mh9ioIDBvYEDQvGfhihYiP7'\n",
    "start_url = 'https://api.nytimes.com/svc/search/v2/articlesearch.json?'"
   ]
  },
  {
   "cell_type": "code",
   "execution_count": 3,
   "metadata": {},
   "outputs": [],
   "source": [
    "def get_nyt_url(q, begin_date, end_date):\n",
    "    url = (start_url+\"q={0}&begin_date={1}&end_date={2}&api-key=\"+api_key).format(q, begin_date, end_date)\n",
    "    return url"
   ]
  },
  {
   "cell_type": "code",
   "execution_count": 4,
   "metadata": {},
   "outputs": [],
   "source": [
    "def get_article_urls(q, begin_date, end_date):\n",
    "    url = get_nyt_url(q, begin_date, end_date)\n",
    "    r = requests.get(url)\n",
    "    #only keep article (not multimedia content)\n",
    "    articles = [news for news in r.json()['response']['docs'] if news['document_type']=='article']\n",
    "    return [article['web_url'] for article in articles]"
   ]
  },
  {
   "cell_type": "code",
   "execution_count": 5,
   "metadata": {},
   "outputs": [],
   "source": [
    "def get_title_and_text(article_url):\n",
    "    r = requests.get(article_url)\n",
    "    soup = BeautifulSoup(r.content)\n",
    "    article_html_content = soup.find('html').find('body').find('article')\n",
    "    title = article_html_content.find('header').find('h1').get_text()\n",
    "    paragraphs = article_html_content.find('section', attrs = {'name':'articleBody'}).find_all('p')\n",
    "    return [title] + [p.get_text() for p in paragraphs]"
   ]
  },
  {
   "cell_type": "code",
   "execution_count": 6,
   "metadata": {},
   "outputs": [],
   "source": [
    "corpus_articles = [get_title_and_text(article_url) \n",
    "                   for article_url in get_article_urls('Obama', 20081201, 20090101)]"
   ]
  },
  {
   "cell_type": "code",
   "execution_count": 9,
   "metadata": {},
   "outputs": [
    {
     "data": {
      "text/plain": [
       "['Obama Is to Report on Blagojevich Contacts',\n",
       " 'HONOLULU \\x97 President-elect Barack Obama plans Tuesday to release an internal review of the communications that his advisers had with the office of Gov. Rod R. Blagojevich of Illinois, who is accused by federal prosecutors of seeking favors in exchange for filling Mr. Obama’s vacant Senate seat.',\n",
       " 'Mr. Obama, who is on vacation with his family here in Hawaii, is not planning to answer questions or speak publicly about the report. The review, prepared by lawyers for the Obama transition team, will highlight the telephone calls and contacts that a small circle of Mr. Obama’s advisers had with aides to Mr. Blagojevich last month. It is scheduled to be released Tuesday at 4:30 p.m. Eastern time, aides said.',\n",
       " 'The report, according to three people familiar with its findings, is a memorandum that will lay out a narrative in about a dozen paragraphs the limited contact Mr. Obama’s advisers had with the governor’s office. Mr. Obama said last week that it was “frustrating” not to be able to answer questions, but said his review had found that his advisers were not involved in any inappropriate talks about the Senate seat.',\n",
       " 'Rahm Emanuel, the Illinois congressman selected by Mr. Obama as his White House chief of staff, had a handful of contacts with the governor’s office. At least two other names also are expected to be mentioned in the review.',\n",
       " 'Valerie Jarrett, a close friend to the Obama family who is a co-chairwoman of the transition effort, could also be referred to in the report. Her name was raised as a possible candidate for the Senate seat, but she withdrew from consideration last month and took a position in the White House. ',\n",
       " 'The report, and the timing of its release, was a product of cooperation from the office of Patrick J. Fitzgerald, the United States attorney for the Northern District of Illinois, who is leading the federal investigation into Mr. Blagojevich. But according to people familiar with the report, lawyers who compiled the Obama review did not have access to wiretapped telephone conversations between Obama aides and the governor’s office.',\n",
       " 'Last week, Mr. Fitzgerald asked the Obama transition team to delay the release of its report so prosecutors could interview witnesses in the Blagojevich investigation. The office had yet to complete its interviews late last week, people familiar with the case said, and asked the Obama team not to release its report on Monday.',\n",
       " 'It is unknown whether one of the leading unanswered questions will be resolved: Did Mr. Obama, through his aides, give Mr. Blagojevich a list of preferred candidates for the Senate seat?',\n",
       " 'At a news conference three days after the election, Mr. Obama said he was staying out of the matter. “There are going to be a lot of good choices out there,” he said, “but it is the governor’s decision to make, not mine.”',\n",
       " 'Gregory B. Craig, the incoming White House counsel, helped prepare the report that is set for release on Tuesday. He has worked with the United States Attorney’s Office, which has repeatedly suggested that Mr. Obama’s staff is not suspected of any wrongdoing. ',\n",
       " 'The Obama report may not be the final word on the case. The review was compiled from memory by Mr. Obama’s aides, rather than from recordings of any phone calls.',\n",
       " 'The taped conversations, which were picked up through the court-approved wiretapping of Mr. Blagojevich and his chief of staff, John Harris, will not become public until the case moves through the courts or goes to trial. Mr. Emanuel believes he was taped on a court-approved wiretap as he discussed the Senate seat, but has told associates he did not engage in any deal-making with Mr. Blagojevich.']"
      ]
     },
     "execution_count": 9,
     "metadata": {},
     "output_type": "execute_result"
    }
   ],
   "source": [
    "corpus_articles[0]"
   ]
  }
 ],
 "metadata": {
  "kernelspec": {
   "display_name": "Python 3",
   "language": "python",
   "name": "python3"
  },
  "language_info": {
   "codemirror_mode": {
    "name": "ipython",
    "version": 3
   },
   "file_extension": ".py",
   "mimetype": "text/x-python",
   "name": "python",
   "nbconvert_exporter": "python",
   "pygments_lexer": "ipython3",
   "version": "3.7.3"
  }
 },
 "nbformat": 4,
 "nbformat_minor": 2
}
